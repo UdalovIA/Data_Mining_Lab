{
  "cells": [
    {
      "cell_type": "markdown",
      "metadata": {
        "id": "view-in-github",
        "colab_type": "text"
      },
      "source": [
        "<a href=\"https://colab.research.google.com/github/UdalovIA/Data_Mining_Lab/blob/main/ML_Cup_audio.ipynb\" target=\"_parent\"><img src=\"https://colab.research.google.com/assets/colab-badge.svg\" alt=\"Open In Colab\"/></a>"
      ]
    },
    {
      "cell_type": "code",
      "execution_count": null,
      "metadata": {
        "id": "oRjPkPUbkneB"
      },
      "outputs": [],
      "source": [
        "import urllib.request\n",
        "urllib.request.urlretrieve(\"https://storage.yandexcloud.net/audioml-contest22/dataset.tar.gz\", \"dataset.tar.gz\")"
      ]
    },
    {
      "cell_type": "code",
      "execution_count": null,
      "metadata": {
        "id": "lCRddOJi4lXy"
      },
      "outputs": [],
      "source": [
        "#!python naive_baseline.py --features-dir /content/train_features --tracks-meta /content/train_meta.tsv --output /content/out/text.txt"
      ]
    },
    {
      "cell_type": "code",
      "execution_count": null,
      "metadata": {
        "colab": {
          "base_uri": "https://localhost:8080/"
        },
        "id": "lXu_nlItQBL7",
        "outputId": "5d81e4fd-f591-4a8d-d790-6ee219091c33"
      },
      "outputs": [
        {
          "name": "stdout",
          "output_type": "stream",
          "text": [
            "Mounted at drive\n"
          ]
        }
      ],
      "source": [
        "from google.colab import drive\n",
        "drive.mount('drive')\n",
        "#!cp /content/train_meta.tsv \"drive/My Drive/\""
      ]
    },
    {
      "cell_type": "code",
      "execution_count": null,
      "metadata": {
        "colab": {
          "background_save": true
        },
        "id": "0NUiJzHfpcJA"
      },
      "outputs": [],
      "source": [
        "import zipfile\n",
        "with zipfile.ZipFile('/content/drive/MyDrive/train_features.zip', 'r') as zip_ref:\n",
        "    zip_ref.extractall('/content/train_features')"
      ]
    },
    {
      "cell_type": "code",
      "execution_count": null,
      "metadata": {
        "colab": {
          "background_save": true
        },
        "id": "HwZ1NDnIqDwO",
        "outputId": "561c66a1-4d79-43ce-8828-3fb5271ff87f"
      },
      "outputs": [
        {
          "data": {
            "application/vnd.google.colaboratory.intrinsic+json": {
              "type": "string"
            },
            "text/plain": [
              "'/content/train_meta.tsv'"
            ]
          },
          "execution_count": 4,
          "metadata": {},
          "output_type": "execute_result"
        }
      ],
      "source": [
        "import shutil\n",
        "shutil.copy(\"/content/drive/MyDrive/train_meta.tsv\", \"/content/\")"
      ]
    },
    {
      "cell_type": "code",
      "execution_count": null,
      "metadata": {
        "id": "LlGdzwyZh7WY"
      },
      "outputs": [],
      "source": [
        "!cp /content/train_meta.tsv \"drive/My Drive/\""
      ]
    },
    {
      "cell_type": "code",
      "execution_count": null,
      "metadata": {
        "id": "T68UDBeHrk2f"
      },
      "outputs": [],
      "source": [
        "import tarfile\n",
        "import zipfile\n",
        "zipfile = '/content/dataset.tar.gz'\n",
        "if zipfile.endswith(\"tar.gz\"):\n",
        "    tar = tarfile.open(zipfile, \"r:gz\")\n",
        "elif zipfile.endswith(\"tar\"):\n",
        "    tar = tarfile.open(zipfile, \"r:\")\n",
        "tar.extractall()\n",
        "tar.close()  "
      ]
    },
    {
      "cell_type": "code",
      "execution_count": null,
      "metadata": {
        "colab": {
          "base_uri": "https://localhost:8080/"
        },
        "id": "Bp19pd1JriHh",
        "outputId": "7b39ed3c-2014-4a5e-a024-c861c25777e4"
      },
      "outputs": [
        {
          "output_type": "stream",
          "name": "stdout",
          "text": [
            "Looking in indexes: https://pypi.org/simple, https://us-python.pkg.dev/colab-wheels/public/simple/\n",
            "Collecting annoy\n",
            "  Downloading annoy-1.17.1.tar.gz (647 kB)\n",
            "\u001b[K     |████████████████████████████████| 647 kB 25.9 MB/s \n",
            "\u001b[?25hBuilding wheels for collected packages: annoy\n",
            "  Building wheel for annoy (setup.py) ... \u001b[?25l\u001b[?25hdone\n",
            "  Created wheel for annoy: filename=annoy-1.17.1-cp37-cp37m-linux_x86_64.whl size=388775 sha256=d3db21cbc8bfa513ad12adab12d9bdeb927dea045ddddd644d0184da7b4c82cc\n",
            "  Stored in directory: /root/.cache/pip/wheels/81/94/bf/92cb0e4fef8770fe9c6df0ba588fca30ab7c306b6048ae8a54\n",
            "Successfully built annoy\n",
            "Installing collected packages: annoy\n",
            "Successfully installed annoy-1.17.1\n"
          ]
        }
      ],
      "source": [
        "!pip install annoy\n"
      ]
    },
    {
      "cell_type": "code",
      "execution_count": null,
      "metadata": {
        "id": "D7IrnlxwTZEd"
      },
      "outputs": [],
      "source": [
        "# encoding=utf-8\n",
        "import numpy as np\n",
        "import pandas as pd\n",
        "import os\n",
        "from argparse import ArgumentParser\n",
        "from sklearn.model_selection import train_test_split\n",
        "import torch\n",
        "import torch.nn as nn\n",
        "import torch.nn.functional as F\n",
        "from scipy.spatial.distance import cdist\n",
        "from tqdm import tqdm\n",
        "import random\n",
        "import annoy"
      ]
    },
    {
      "cell_type": "code",
      "execution_count": null,
      "metadata": {
        "id": "hp7mJx8X3Pc1"
      },
      "outputs": [],
      "source": []
    },
    {
      "cell_type": "code",
      "execution_count": null,
      "metadata": {
        "id": "xkNrd8zOhiRo"
      },
      "outputs": [],
      "source": [
        "\n",
        "\n",
        "# Data Loader \n",
        "\n",
        "def train_val_split(dataset, val_size = 0.2): # Сплит по artistid\n",
        "    artist_ids = dataset['artistid'].unique()\n",
        "    train_artist_ids, val_artist_ids = train_test_split(artist_ids, test_size = val_size)\n",
        "    trainset = dataset[dataset['artistid'].isin(train_artist_ids)].copy()\n",
        "    valset = dataset[dataset['artistid'].isin(val_artist_ids)].copy()\n",
        "    return trainset, valset\n",
        "\n",
        "class FeaturesLoader: \n",
        "    def __init__(self, features_dir_path, meta_info, device='cpu', crop_size = 60):\n",
        "        self.features_dir_path = features_dir_path\n",
        "        self.meta_info = meta_info\n",
        "        self.trackid2path = meta_info.set_index('trackid')['archive_features_path'].to_dict()\n",
        "        self.crop_size = crop_size\n",
        "        self.device = device\n",
        "        \n",
        "    def _load_item(self, track_id):\n",
        "        track_features_file_path = self.trackid2path[track_id]\n",
        "        track_features = np.load(os.path.join(self.features_dir_path, track_features_file_path))\n",
        "        padding = (track_features.shape[1] - self.crop_size) // 2\n",
        "        return track_features[:, padding:padding+self.crop_size]\n",
        "    \n",
        "    def load_batch(self, tracks_ids):\n",
        "        batch = [self._load_item(track_id) for track_id in tracks_ids]\n",
        "        return torch.tensor(np.array(batch)).to(self.device)\n",
        "\n",
        "class TrainLoader:\n",
        "    def __init__(self, features_loader, batch_size = 256, features_size = (512, 60)):\n",
        "        self.features_loader = features_loader\n",
        "        self.batch_size = batch_size\n",
        "        self.features_size = features_size\n",
        "        self.artist_track_ids = self.features_loader.meta_info.groupby('artistid').agg(list)\n",
        "        \n",
        "    def _generate_pairs(self, track_ids):\n",
        "        np.random.shuffle(track_ids)\n",
        "        pairs = [track_ids[i-2:i] for i in range(2, len(track_ids)+1, 2)]\n",
        "        return pairs\n",
        "        \n",
        "    def _get_pair_ids(self):\n",
        "        artist_track_ids = self.artist_track_ids.copy()\n",
        "        artist_track_pairs = artist_track_ids['trackid'].map(self._generate_pairs)\n",
        "        for pair_ids in artist_track_pairs.explode().dropna():\n",
        "            yield pair_ids\n",
        "            \n",
        "    def _get_batch(self, batch_ids):\n",
        "        batch_ids = np.array(batch_ids).reshape(-1)\n",
        "        batch_features = self.features_loader.load_batch(batch_ids)\n",
        "        batch_features = batch_features.reshape(self.batch_size, 2, *self.features_size)\n",
        "        return batch_features\n",
        "        \n",
        "    def __iter__(self):\n",
        "        batch_ids = []\n",
        "        for pair_ids in self._get_pair_ids():\n",
        "            batch_ids.append(pair_ids)\n",
        "            if len(batch_ids) == self.batch_size:\n",
        "                batch = self._get_batch(batch_ids)\n",
        "                yield batch\n",
        "                batch_ids = []\n",
        "\n",
        "class TestLoader:\n",
        "    def __init__(self, features_loader, batch_size = 256, features_size = (512, 60)):\n",
        "        self.features_loader = features_loader\n",
        "        self.batch_size = batch_size\n",
        "        self.features_size = features_size\n",
        "        \n",
        "    def __iter__(self):\n",
        "        batch_ids = []\n",
        "        for track_id in tqdm(self.features_loader.meta_info['trackid'].values):\n",
        "            batch_ids.append(track_id)\n",
        "            if len(batch_ids) == self.batch_size:\n",
        "                yield batch_ids, self.features_loader.load_batch(batch_ids) \n",
        "                batch_ids = []\n",
        "        if len(batch_ids) > 0:\n",
        "            yield batch_ids, self.features_loader.load_batch(batch_ids) \n",
        "\n",
        "\n",
        "\n"
      ]
    },
    {
      "cell_type": "code",
      "execution_count": null,
      "metadata": {
        "id": "YfsRBIlbTWf_"
      },
      "outputs": [],
      "source": [
        "# Loss & Metrics\n",
        "\n",
        "class NT_Xent(nn.Module):\n",
        "    def __init__(self, temperature):\n",
        "        super(NT_Xent, self).__init__()\n",
        "        self.temperature = temperature\n",
        "        self.criterion = nn.CrossEntropyLoss(reduction=\"sum\")\n",
        "        self.similarity_f = nn.CosineSimilarity(dim=2)\n",
        "\n",
        "    def mask_correlated_samples(self, batch_size):\n",
        "        N = 2 * batch_size\n",
        "        mask = torch.ones((N, N), dtype=bool)\n",
        "        mask = mask.fill_diagonal_(0)\n",
        "        for i in range(batch_size):\n",
        "            mask[i, batch_size + i] = 0\n",
        "            mask[batch_size + i, i] = 0\n",
        "        return mask\n",
        "\n",
        "    def forward(self, z_i, z_j):\n",
        "        batch_size = z_i.shape[0]\n",
        "        N = 2 * batch_size\n",
        "        z = torch.cat((z_i, z_j), dim=0)\n",
        " \n",
        "        sim = self.similarity_f(z.unsqueeze(1), z.unsqueeze(0)) / self.temperature\n",
        "        sim_i_j = torch.diag(sim, batch_size)\n",
        "        sim_j_i = torch.diag(sim, -batch_size)\n",
        "\n",
        "        mask = self.mask_correlated_samples(batch_size)\n",
        "        positive_samples = torch.cat((sim_i_j, sim_j_i), dim=0).reshape(N, 1)\n",
        "        negative_samples = sim[mask].reshape(N, -1)\n",
        "\n",
        "        labels = torch.zeros(N).to(positive_samples.device).long()\n",
        "        logits = torch.cat((positive_samples, negative_samples), dim=1)\n",
        "        loss = self.criterion(logits, labels)\n",
        "        loss /= N\n",
        "        \n",
        "        with torch.no_grad():\n",
        "            top1_negative_samples, _ = negative_samples.topk(1)\n",
        "            avg_rank = logits.argsort(descending=True).argmin(dim=1).float().mean().cpu().numpy()\n",
        "\n",
        "        return loss, avg_rank\n",
        "\n",
        "def get_ranked_list(embeds, top_size, annoy_num_trees = 32):\n",
        "    annoy_index = None\n",
        "    annoy2id = []\n",
        "    id2annoy = dict()\n",
        "    for track_id, track_embed in embeds.items():\n",
        "        id2annoy[track_id] = len(annoy2id)\n",
        "        annoy2id.append(track_id)\n",
        "        if annoy_index is None:\n",
        "            annoy_index = annoy.AnnoyIndex(len(track_embed), 'angular')\n",
        "        annoy_index.add_item(id2annoy[track_id], track_embed)\n",
        "    annoy_index.build(annoy_num_trees)\n",
        "    ranked_list = dict()\n",
        "    for track_id in embeds.keys():\n",
        "        candidates = annoy_index.get_nns_by_item(id2annoy[track_id], top_size+1)[1:] # exclude trackid itself\n",
        "        candidates = list(filter(lambda x: x != id2annoy[track_id], candidates))\n",
        "        ranked_list[track_id] = [annoy2id[candidate] for candidate in candidates]\n",
        "    return ranked_list\n",
        "\n",
        "def position_discounter(position):\n",
        "    return 1.0 / np.log2(position+1)   \n",
        "\n",
        "def get_ideal_dcg(relevant_items_count, top_size):\n",
        "    dcg = 0.0\n",
        "    for result_indx in range(min(top_size, relevant_items_count)):\n",
        "        position = result_indx + 1\n",
        "        dcg += position_discounter(position)\n",
        "    return dcg\n",
        "\n",
        "def compute_dcg(query_trackid, ranked_list, track2artist_map, top_size):\n",
        "    query_artistid = track2artist_map[query_trackid]\n",
        "    dcg = 0.0\n",
        "    for result_indx, result_trackid in enumerate(ranked_list[:top_size]):\n",
        "        assert result_trackid != query_trackid\n",
        "        position = result_indx + 1\n",
        "        discounted_position = position_discounter(position)\n",
        "        result_artistid = track2artist_map[result_trackid]\n",
        "        if result_artistid == query_artistid:\n",
        "            dcg += discounted_position\n",
        "    return dcg\n",
        "\n",
        "def eval_submission(submission, gt_meta_info, top_size = 100):\n",
        "    track2artist_map = gt_meta_info.set_index('trackid')['artistid'].to_dict()\n",
        "    artist2tracks_map = gt_meta_info.groupby('artistid').agg(list)['trackid'].to_dict()\n",
        "    ndcg_list = []\n",
        "    for query_trackid in tqdm(submission.keys()):\n",
        "        ranked_list = submission[query_trackid]\n",
        "        query_artistid = track2artist_map[query_trackid]\n",
        "        query_artist_tracks_count = len(artist2tracks_map[query_artistid])\n",
        "        ideal_dcg = get_ideal_dcg(query_artist_tracks_count-1, top_size=top_size)\n",
        "        dcg = compute_dcg(query_trackid, ranked_list, track2artist_map, top_size=top_size)\n",
        "        try:\n",
        "            ndcg_list.append(dcg/ideal_dcg)\n",
        "        except ZeroDivisionError:\n",
        "            continue\n",
        "    return np.mean(ndcg_list)\n"
      ]
    },
    {
      "cell_type": "code",
      "execution_count": null,
      "metadata": {
        "id": "ItXyIiD3TKJj"
      },
      "outputs": [],
      "source": [
        "def train(module, train_loader, val_loader, valset_meta, optimizer, criterion, num_epochs, checkpoint_path, top_size = 100):\n",
        "    max_ndcg = None\n",
        "    losses = []\n",
        "    metric1 = []\n",
        "    metric2 = []\n",
        "    for epoch in range(num_epochs):\n",
        "        for batch in tqdm(train_loader):\n",
        "            optimizer.zero_grad()\n",
        "            module.train()\n",
        "            x_i, x_j = batch[:, 0, :, :], batch[:, 1, :, :]\n",
        "            h_i, h_j, z_i, z_j = module(x_i, x_j)\n",
        "            loss, avg_rank = criterion(z_i, z_j)\n",
        "            loss.backward()\n",
        "            optimizer.step()\n",
        "            print(\"Epoch {}/{}\".format(epoch+1, num_epochs))\n",
        "            print(\"loss: {}\".format(loss))\n",
        "            print(\"avg_rank: {}\".format(avg_rank))\n",
        "            print()\n",
        "            losses.append(loss.item())\n",
        "        \n",
        "        with torch.no_grad():\n",
        "            model_encoder = module.encoder\n",
        "            embeds_encoder = inference(model_encoder, val_loader)\n",
        "            ranked_list_encoder = get_ranked_list(embeds_encoder, top_size)\n",
        "            val_ndcg_encoder = eval_submission(ranked_list_encoder, valset_meta)\n",
        "            \n",
        "            model_projector = nn.Sequential(module.encoder, module.projector)\n",
        "            embeds_projector = inference(model_projector, val_loader)\n",
        "            ranked_list_projector = get_ranked_list(embeds_projector, top_size)\n",
        "            val_ndcg_projector = eval_submission(ranked_list_projector, valset_meta)\n",
        "            \n",
        "            print(\"Validation nDCG on epoch {}\".format(epoch))\n",
        "            print(\"Encoder - {}\".format(val_ndcg_encoder))\n",
        "            print(\"Projector - {}\".format(val_ndcg_projector))\n",
        "            if (max_ndcg is None) or (val_ndcg_encoder > max_ndcg):\n",
        "                max_ndcg = val_ndcg_encoder\n",
        "                torch.save(model_encoder.state_dict(), checkpoint_path)\n",
        "            metric1.append(val_ndcg_encoder)\n",
        "            metric2.append(val_ndcg_projector)\n",
        "    return losses, metric1, metric2\n",
        "def save_submission(submission, submission_path):\n",
        "    with open(submission_path, 'w') as f:\n",
        "        for query_trackid, result in submission.items():\n",
        "            f.write(\"{}\\t{}\\n\".format(query_trackid, \" \".join(map(str, result))))"
      ]
    },
    {
      "cell_type": "code",
      "execution_count": null,
      "metadata": {
        "id": "9hfFqEDWTSO_"
      },
      "outputs": [],
      "source": [
        "# Train & Inference functions\n",
        "\n",
        "class BasicNet(nn.Module):\n",
        "    def __init__(self, output_features_size):\n",
        "        super().__init__()\n",
        "        self.output_features_size = output_features_size\n",
        "        self.kernel = 3\n",
        "        self.conv_1 = nn.Conv1d(512, output_features_size, kernel_size=self.kernel, padding=1)\n",
        "        self.conv_2 = nn.Conv1d(output_features_size, output_features_size, kernel_size=self.kernel, padding=1)\n",
        "        self.mp_1 = nn.MaxPool1d(2, 2)\n",
        "        self.conv_3 = nn.Conv1d(output_features_size, output_features_size, kernel_size=self.kernel, padding=1)\n",
        "        self.conv_4 = nn.Conv1d(output_features_size, output_features_size//2, kernel_size=self.kernel, padding=1)\n",
        "        self.mp_2 = nn.MaxPool1d(2, 2)\n",
        "        self.conv_5 = nn.Conv1d(output_features_size//2, output_features_size//2, kernel_size=self.kernel, padding=1)\n",
        "        self.conv_6 = nn.Conv1d(output_features_size//2, output_features_size//2, kernel_size=self.kernel, padding=1)\n",
        "\n",
        "        self.mp_3 = nn.MaxPool1d(2, 2)\n",
        "        self.conv_7 = nn.Conv1d(output_features_size//2, output_features_size//2, kernel_size=self.kernel, padding=1)\n",
        "        self.conv_8 = nn.Conv1d(output_features_size//2, output_features_size//2, kernel_size=self.kernel, padding=1)\n",
        "\n",
        "    def forward(self, x):\n",
        "        x = F.relu(self.conv_1(x))\n",
        "        x = F.relu(self.conv_2(x))\n",
        "        x = self.mp_1(x)\n",
        "        x = F.relu(self.conv_3(x))\n",
        "        x = F.relu(self.conv_4(x))\n",
        "        x = self.mp_2(x)\n",
        "        '''\n",
        "        x = F.relu(self.conv_5(x))\n",
        "        x = (self.conv_6(x))\n",
        "        x = self.mp_3(x)\n",
        "        '''\n",
        "        x = F.relu(self.conv_7(x))\n",
        "        x = F.relu(self.conv_8(x)).mean(axis = 2)\n",
        "        return x\n",
        "\n",
        "class SimCLR(nn.Module):\n",
        "    def __init__(self, encoder, projection_dim):\n",
        "        super().__init__()\n",
        "        self.encoder = encoder\n",
        "        self.n_features = encoder.output_features_size//2\n",
        "        self.projection_dim = projection_dim\n",
        "        self.projector = nn.Sequential(\n",
        "            nn.Linear(self.n_features, self.n_features, bias=False),\n",
        "            nn.ReLU(),\n",
        "            nn.Linear(self.n_features, self.n_features, bias=False),\n",
        "            nn.ReLU(),\n",
        "            nn.Linear(self.n_features, self.projection_dim, bias=False),\n",
        "        )\n",
        "        \n",
        "    def forward(self, x_i, x_j):\n",
        "        h_i = self.encoder(x_i)#.view(-1, 128*15)\n",
        "        h_j = self.encoder(x_j)#.view(-1, 128*15)\n",
        "        #print(x_i.shape)\n",
        "\n",
        "        #print('h_i.shape: ', h_i.shape)\n",
        "        #print(h_j.shape)\n",
        "        \n",
        "        z_i = self.projector(h_i)\n",
        "        z_j = self.projector(h_j)\n",
        "        #z_i = self.projector(h_i.view(-1, 64*15))\n",
        "        #z_j = self.projector(h_j.view(-1, 64*15))\n",
        "        return h_i, h_j, z_i, z_j\n",
        "#(32768x15 and 64x64)\n",
        "def inference(model, loader):\n",
        "    embeds = dict()\n",
        "    for tracks_ids, tracks_features in loader:\n",
        "        with torch.no_grad():\n",
        "            tracks_embeds = model(tracks_features)#.view(-1, 128*15)\n",
        "            for track_id, track_embed in zip(tracks_ids, tracks_embeds):\n",
        "                embeds[track_id] = track_embed.cpu().numpy()\n",
        "    return embeds\n",
        "def inference1(model, loader):\n",
        "    embeds = dict()\n",
        "    for tracks_ids, tracks_features in loader:\n",
        "        with torch.no_grad():\n",
        "            tracks_embeds = model[1](model[0](tracks_features))#.view(-1, 64*15))\n",
        "            for track_id, track_embed in zip(tracks_ids, tracks_embeds):\n",
        "                embeds[track_id] = track_embed.cpu().numpy()\n",
        "    return embeds"
      ]
    },
    {
      "cell_type": "code",
      "execution_count": null,
      "metadata": {
        "id": "GRGWGFHQS71E"
      },
      "outputs": [],
      "source": [
        "\n",
        "#parser = ArgumentParser(description='Simple naive baseline')\n",
        "#parser.add_argument('--base-dir', dest='base_dir', action='store', required=True)\n",
        "#args = parser.parse_args()\n",
        "\n",
        "base_dir = '/content'\n",
        "    # Seed\n",
        "seed = 42\n",
        "random.seed(seed)\n",
        "np.random.seed(seed)\n",
        "torch.manual_seed(seed)\n",
        "torch.cuda.manual_seed(seed)\n",
        "torch.cuda.manual_seed_all(seed)\n",
        "torch.backends.cudnn.benchmark = False\n",
        "torch.backends.cudnn.deterministic = True\n",
        "\n",
        "TRAINSET_DIRNAME = 'train_features'\n",
        "TESTSET_DIRNAME = 'test_features'\n",
        "TRAINSET_META_FILENAME = 'train_meta.tsv'\n",
        "TESTSET_META_FILENAME = 'test_meta.tsv'\n",
        "SUBMISSION_FILENAME = 'submission.txt'\n",
        "MODEL_FILENAME = 'model.pt'\n",
        "CHECKPOINT_FILENAME = 'best.pt'\n",
        "device = 'cuda' if torch.cuda.is_available() else 'cpu'\n",
        "\n",
        "BATCH_SIZE = 512\n",
        "N_CHANNELS = 512\n",
        "PROJECTION_DIM = 128\n",
        "NUM_EPOCHS = 20\n",
        "LR = 1e-4\n",
        "TEMPERATURE = 0.1\n",
        "\n",
        "TRAINSET_PATH = os.path.join(base_dir, TRAINSET_DIRNAME)\n",
        "TESTSET_PATH = os.path.join(base_dir, TESTSET_DIRNAME)\n",
        "TRAINSET_META_PATH = os.path.join(base_dir, TRAINSET_META_FILENAME)\n",
        "TESTSET_META_PATH = os.path.join(base_dir, TESTSET_META_FILENAME)\n",
        "SUBMISSION_PATH = os.path.join(base_dir, SUBMISSION_FILENAME)\n",
        "MODEL_PATH = os.path.join(base_dir, MODEL_FILENAME)\n",
        "CHECKPOINT_PATH = os.path.join(base_dir, CHECKPOINT_FILENAME)"
      ]
    },
    {
      "cell_type": "code",
      "execution_count": null,
      "metadata": {
        "id": "dEaDByUigH65"
      },
      "outputs": [],
      "source": []
    },
    {
      "cell_type": "code",
      "execution_count": null,
      "metadata": {
        "id": "RJnI5PRWaSqp",
        "colab": {
          "base_uri": "https://localhost:8080/",
          "height": 484
        },
        "outputId": "1d02571f-2d42-471f-a06e-dd4d4db2ac78"
      },
      "outputs": [
        {
          "output_type": "stream",
          "name": "stdout",
          "text": [
            "Loaded data\n",
            "Train set size: 150484\n",
            "Validation set size: 16712\n",
            "\n",
            "Train\n"
          ]
        },
        {
          "output_type": "stream",
          "name": "stderr",
          "text": [
            "0it [00:09, ?it/s]\n"
          ]
        },
        {
          "output_type": "error",
          "ename": "KeyboardInterrupt",
          "evalue": "ignored",
          "traceback": [
            "\u001b[0;31m---------------------------------------------------------------------------\u001b[0m",
            "\u001b[0;31mKeyboardInterrupt\u001b[0m                         Traceback (most recent call last)",
            "\u001b[0;32m<ipython-input-13-29c8dca7c71d>\u001b[0m in \u001b[0;36m<module>\u001b[0;34m\u001b[0m\n\u001b[1;32m     31\u001b[0m         \u001b[0mcriterion\u001b[0m \u001b[0;34m=\u001b[0m \u001b[0mNT_Xent\u001b[0m\u001b[0;34m(\u001b[0m\u001b[0mtemperature\u001b[0m \u001b[0;34m=\u001b[0m \u001b[0mTEMPERATURE\u001b[0m\u001b[0;34m)\u001b[0m\u001b[0;34m,\u001b[0m\u001b[0;34m\u001b[0m\u001b[0;34m\u001b[0m\u001b[0m\n\u001b[1;32m     32\u001b[0m         \u001b[0mnum_epochs\u001b[0m \u001b[0;34m=\u001b[0m \u001b[0mNUM_EPOCHS\u001b[0m\u001b[0;34m,\u001b[0m\u001b[0;34m\u001b[0m\u001b[0;34m\u001b[0m\u001b[0m\n\u001b[0;32m---> 33\u001b[0;31m         \u001b[0mcheckpoint_path\u001b[0m \u001b[0;34m=\u001b[0m \u001b[0mCHECKPOINT_PATH\u001b[0m\u001b[0;34m\u001b[0m\u001b[0;34m\u001b[0m\u001b[0m\n\u001b[0m\u001b[1;32m     34\u001b[0m )\n\u001b[1;32m     35\u001b[0m \u001b[0;34m\u001b[0m\u001b[0m\n",
            "\u001b[0;32m<ipython-input-9-afcdec988a72>\u001b[0m in \u001b[0;36mtrain\u001b[0;34m(module, train_loader, val_loader, valset_meta, optimizer, criterion, num_epochs, checkpoint_path, top_size)\u001b[0m\n\u001b[1;32m      9\u001b[0m             \u001b[0mmodule\u001b[0m\u001b[0;34m.\u001b[0m\u001b[0mtrain\u001b[0m\u001b[0;34m(\u001b[0m\u001b[0;34m)\u001b[0m\u001b[0;34m\u001b[0m\u001b[0;34m\u001b[0m\u001b[0m\n\u001b[1;32m     10\u001b[0m             \u001b[0mx_i\u001b[0m\u001b[0;34m,\u001b[0m \u001b[0mx_j\u001b[0m \u001b[0;34m=\u001b[0m \u001b[0mbatch\u001b[0m\u001b[0;34m[\u001b[0m\u001b[0;34m:\u001b[0m\u001b[0;34m,\u001b[0m \u001b[0;36m0\u001b[0m\u001b[0;34m,\u001b[0m \u001b[0;34m:\u001b[0m\u001b[0;34m,\u001b[0m \u001b[0;34m:\u001b[0m\u001b[0;34m]\u001b[0m\u001b[0;34m,\u001b[0m \u001b[0mbatch\u001b[0m\u001b[0;34m[\u001b[0m\u001b[0;34m:\u001b[0m\u001b[0;34m,\u001b[0m \u001b[0;36m1\u001b[0m\u001b[0;34m,\u001b[0m \u001b[0;34m:\u001b[0m\u001b[0;34m,\u001b[0m \u001b[0;34m:\u001b[0m\u001b[0;34m]\u001b[0m\u001b[0;34m\u001b[0m\u001b[0;34m\u001b[0m\u001b[0m\n\u001b[0;32m---> 11\u001b[0;31m             \u001b[0mh_i\u001b[0m\u001b[0;34m,\u001b[0m \u001b[0mh_j\u001b[0m\u001b[0;34m,\u001b[0m \u001b[0mz_i\u001b[0m\u001b[0;34m,\u001b[0m \u001b[0mz_j\u001b[0m \u001b[0;34m=\u001b[0m \u001b[0mmodule\u001b[0m\u001b[0;34m(\u001b[0m\u001b[0mx_i\u001b[0m\u001b[0;34m,\u001b[0m \u001b[0mx_j\u001b[0m\u001b[0;34m)\u001b[0m\u001b[0;34m\u001b[0m\u001b[0;34m\u001b[0m\u001b[0m\n\u001b[0m\u001b[1;32m     12\u001b[0m             \u001b[0mloss\u001b[0m\u001b[0;34m,\u001b[0m \u001b[0mavg_rank\u001b[0m \u001b[0;34m=\u001b[0m \u001b[0mcriterion\u001b[0m\u001b[0;34m(\u001b[0m\u001b[0mz_i\u001b[0m\u001b[0;34m,\u001b[0m \u001b[0mz_j\u001b[0m\u001b[0;34m)\u001b[0m\u001b[0;34m\u001b[0m\u001b[0;34m\u001b[0m\u001b[0m\n\u001b[1;32m     13\u001b[0m             \u001b[0mloss\u001b[0m\u001b[0;34m.\u001b[0m\u001b[0mbackward\u001b[0m\u001b[0;34m(\u001b[0m\u001b[0;34m)\u001b[0m\u001b[0;34m\u001b[0m\u001b[0;34m\u001b[0m\u001b[0m\n",
            "\u001b[0;32m/usr/local/lib/python3.7/dist-packages/torch/nn/modules/module.py\u001b[0m in \u001b[0;36m_call_impl\u001b[0;34m(self, *input, **kwargs)\u001b[0m\n\u001b[1;32m   1128\u001b[0m         if not (self._backward_hooks or self._forward_hooks or self._forward_pre_hooks or _global_backward_hooks\n\u001b[1;32m   1129\u001b[0m                 or _global_forward_hooks or _global_forward_pre_hooks):\n\u001b[0;32m-> 1130\u001b[0;31m             \u001b[0;32mreturn\u001b[0m \u001b[0mforward_call\u001b[0m\u001b[0;34m(\u001b[0m\u001b[0;34m*\u001b[0m\u001b[0minput\u001b[0m\u001b[0;34m,\u001b[0m \u001b[0;34m**\u001b[0m\u001b[0mkwargs\u001b[0m\u001b[0;34m)\u001b[0m\u001b[0;34m\u001b[0m\u001b[0;34m\u001b[0m\u001b[0m\n\u001b[0m\u001b[1;32m   1131\u001b[0m         \u001b[0;31m# Do not call functions when jit is used\u001b[0m\u001b[0;34m\u001b[0m\u001b[0;34m\u001b[0m\u001b[0;34m\u001b[0m\u001b[0m\n\u001b[1;32m   1132\u001b[0m         \u001b[0mfull_backward_hooks\u001b[0m\u001b[0;34m,\u001b[0m \u001b[0mnon_full_backward_hooks\u001b[0m \u001b[0;34m=\u001b[0m \u001b[0;34m[\u001b[0m\u001b[0;34m]\u001b[0m\u001b[0;34m,\u001b[0m \u001b[0;34m[\u001b[0m\u001b[0;34m]\u001b[0m\u001b[0;34m\u001b[0m\u001b[0;34m\u001b[0m\u001b[0m\n",
            "\u001b[0;32m<ipython-input-10-0666856c9c12>\u001b[0m in \u001b[0;36mforward\u001b[0;34m(self, x_i, x_j)\u001b[0m\n\u001b[1;32m     51\u001b[0m     \u001b[0;32mdef\u001b[0m \u001b[0mforward\u001b[0m\u001b[0;34m(\u001b[0m\u001b[0mself\u001b[0m\u001b[0;34m,\u001b[0m \u001b[0mx_i\u001b[0m\u001b[0;34m,\u001b[0m \u001b[0mx_j\u001b[0m\u001b[0;34m)\u001b[0m\u001b[0;34m:\u001b[0m\u001b[0;34m\u001b[0m\u001b[0;34m\u001b[0m\u001b[0m\n\u001b[1;32m     52\u001b[0m         \u001b[0mh_i\u001b[0m \u001b[0;34m=\u001b[0m \u001b[0mself\u001b[0m\u001b[0;34m.\u001b[0m\u001b[0mencoder\u001b[0m\u001b[0;34m(\u001b[0m\u001b[0mx_i\u001b[0m\u001b[0;34m)\u001b[0m\u001b[0;31m#.view(-1, 128*15)\u001b[0m\u001b[0;34m\u001b[0m\u001b[0;34m\u001b[0m\u001b[0m\n\u001b[0;32m---> 53\u001b[0;31m         \u001b[0mh_j\u001b[0m \u001b[0;34m=\u001b[0m \u001b[0mself\u001b[0m\u001b[0;34m.\u001b[0m\u001b[0mencoder\u001b[0m\u001b[0;34m(\u001b[0m\u001b[0mx_j\u001b[0m\u001b[0;34m)\u001b[0m\u001b[0;31m#.view(-1, 128*15)\u001b[0m\u001b[0;34m\u001b[0m\u001b[0;34m\u001b[0m\u001b[0m\n\u001b[0m\u001b[1;32m     54\u001b[0m         \u001b[0;31m#print(x_i.shape)\u001b[0m\u001b[0;34m\u001b[0m\u001b[0;34m\u001b[0m\u001b[0;34m\u001b[0m\u001b[0m\n\u001b[1;32m     55\u001b[0m \u001b[0;34m\u001b[0m\u001b[0m\n",
            "\u001b[0;32m/usr/local/lib/python3.7/dist-packages/torch/nn/modules/module.py\u001b[0m in \u001b[0;36m_call_impl\u001b[0;34m(self, *input, **kwargs)\u001b[0m\n\u001b[1;32m   1128\u001b[0m         if not (self._backward_hooks or self._forward_hooks or self._forward_pre_hooks or _global_backward_hooks\n\u001b[1;32m   1129\u001b[0m                 or _global_forward_hooks or _global_forward_pre_hooks):\n\u001b[0;32m-> 1130\u001b[0;31m             \u001b[0;32mreturn\u001b[0m \u001b[0mforward_call\u001b[0m\u001b[0;34m(\u001b[0m\u001b[0;34m*\u001b[0m\u001b[0minput\u001b[0m\u001b[0;34m,\u001b[0m \u001b[0;34m**\u001b[0m\u001b[0mkwargs\u001b[0m\u001b[0;34m)\u001b[0m\u001b[0;34m\u001b[0m\u001b[0;34m\u001b[0m\u001b[0m\n\u001b[0m\u001b[1;32m   1131\u001b[0m         \u001b[0;31m# Do not call functions when jit is used\u001b[0m\u001b[0;34m\u001b[0m\u001b[0;34m\u001b[0m\u001b[0;34m\u001b[0m\u001b[0m\n\u001b[1;32m   1132\u001b[0m         \u001b[0mfull_backward_hooks\u001b[0m\u001b[0;34m,\u001b[0m \u001b[0mnon_full_backward_hooks\u001b[0m \u001b[0;34m=\u001b[0m \u001b[0;34m[\u001b[0m\u001b[0;34m]\u001b[0m\u001b[0;34m,\u001b[0m \u001b[0;34m[\u001b[0m\u001b[0;34m]\u001b[0m\u001b[0;34m\u001b[0m\u001b[0;34m\u001b[0m\u001b[0m\n",
            "\u001b[0;32m<ipython-input-10-0666856c9c12>\u001b[0m in \u001b[0;36mforward\u001b[0;34m(self, x)\u001b[0m\n\u001b[1;32m     23\u001b[0m         \u001b[0mx\u001b[0m \u001b[0;34m=\u001b[0m \u001b[0mF\u001b[0m\u001b[0;34m.\u001b[0m\u001b[0mrelu\u001b[0m\u001b[0;34m(\u001b[0m\u001b[0mself\u001b[0m\u001b[0;34m.\u001b[0m\u001b[0mconv_2\u001b[0m\u001b[0;34m(\u001b[0m\u001b[0mx\u001b[0m\u001b[0;34m)\u001b[0m\u001b[0;34m)\u001b[0m\u001b[0;34m\u001b[0m\u001b[0;34m\u001b[0m\u001b[0m\n\u001b[1;32m     24\u001b[0m         \u001b[0mx\u001b[0m \u001b[0;34m=\u001b[0m \u001b[0mself\u001b[0m\u001b[0;34m.\u001b[0m\u001b[0mmp_1\u001b[0m\u001b[0;34m(\u001b[0m\u001b[0mx\u001b[0m\u001b[0;34m)\u001b[0m\u001b[0;34m\u001b[0m\u001b[0;34m\u001b[0m\u001b[0m\n\u001b[0;32m---> 25\u001b[0;31m         \u001b[0mx\u001b[0m \u001b[0;34m=\u001b[0m \u001b[0mF\u001b[0m\u001b[0;34m.\u001b[0m\u001b[0mrelu\u001b[0m\u001b[0;34m(\u001b[0m\u001b[0mself\u001b[0m\u001b[0;34m.\u001b[0m\u001b[0mconv_3\u001b[0m\u001b[0;34m(\u001b[0m\u001b[0mx\u001b[0m\u001b[0;34m)\u001b[0m\u001b[0;34m)\u001b[0m\u001b[0;34m\u001b[0m\u001b[0;34m\u001b[0m\u001b[0m\n\u001b[0m\u001b[1;32m     26\u001b[0m         \u001b[0mx\u001b[0m \u001b[0;34m=\u001b[0m \u001b[0mF\u001b[0m\u001b[0;34m.\u001b[0m\u001b[0mrelu\u001b[0m\u001b[0;34m(\u001b[0m\u001b[0mself\u001b[0m\u001b[0;34m.\u001b[0m\u001b[0mconv_4\u001b[0m\u001b[0;34m(\u001b[0m\u001b[0mx\u001b[0m\u001b[0;34m)\u001b[0m\u001b[0;34m)\u001b[0m\u001b[0;34m\u001b[0m\u001b[0;34m\u001b[0m\u001b[0m\n\u001b[1;32m     27\u001b[0m         \u001b[0mx\u001b[0m \u001b[0;34m=\u001b[0m \u001b[0mself\u001b[0m\u001b[0;34m.\u001b[0m\u001b[0mmp_2\u001b[0m\u001b[0;34m(\u001b[0m\u001b[0mx\u001b[0m\u001b[0;34m)\u001b[0m\u001b[0;34m\u001b[0m\u001b[0;34m\u001b[0m\u001b[0m\n",
            "\u001b[0;32m/usr/local/lib/python3.7/dist-packages/torch/nn/modules/module.py\u001b[0m in \u001b[0;36m_call_impl\u001b[0;34m(self, *input, **kwargs)\u001b[0m\n\u001b[1;32m   1128\u001b[0m         if not (self._backward_hooks or self._forward_hooks or self._forward_pre_hooks or _global_backward_hooks\n\u001b[1;32m   1129\u001b[0m                 or _global_forward_hooks or _global_forward_pre_hooks):\n\u001b[0;32m-> 1130\u001b[0;31m             \u001b[0;32mreturn\u001b[0m \u001b[0mforward_call\u001b[0m\u001b[0;34m(\u001b[0m\u001b[0;34m*\u001b[0m\u001b[0minput\u001b[0m\u001b[0;34m,\u001b[0m \u001b[0;34m**\u001b[0m\u001b[0mkwargs\u001b[0m\u001b[0;34m)\u001b[0m\u001b[0;34m\u001b[0m\u001b[0;34m\u001b[0m\u001b[0m\n\u001b[0m\u001b[1;32m   1131\u001b[0m         \u001b[0;31m# Do not call functions when jit is used\u001b[0m\u001b[0;34m\u001b[0m\u001b[0;34m\u001b[0m\u001b[0;34m\u001b[0m\u001b[0m\n\u001b[1;32m   1132\u001b[0m         \u001b[0mfull_backward_hooks\u001b[0m\u001b[0;34m,\u001b[0m \u001b[0mnon_full_backward_hooks\u001b[0m \u001b[0;34m=\u001b[0m \u001b[0;34m[\u001b[0m\u001b[0;34m]\u001b[0m\u001b[0;34m,\u001b[0m \u001b[0;34m[\u001b[0m\u001b[0;34m]\u001b[0m\u001b[0;34m\u001b[0m\u001b[0;34m\u001b[0m\u001b[0m\n",
            "\u001b[0;32m/usr/local/lib/python3.7/dist-packages/torch/nn/modules/conv.py\u001b[0m in \u001b[0;36mforward\u001b[0;34m(self, input)\u001b[0m\n\u001b[1;32m    305\u001b[0m \u001b[0;34m\u001b[0m\u001b[0m\n\u001b[1;32m    306\u001b[0m     \u001b[0;32mdef\u001b[0m \u001b[0mforward\u001b[0m\u001b[0;34m(\u001b[0m\u001b[0mself\u001b[0m\u001b[0;34m,\u001b[0m \u001b[0minput\u001b[0m\u001b[0;34m:\u001b[0m \u001b[0mTensor\u001b[0m\u001b[0;34m)\u001b[0m \u001b[0;34m->\u001b[0m \u001b[0mTensor\u001b[0m\u001b[0;34m:\u001b[0m\u001b[0;34m\u001b[0m\u001b[0;34m\u001b[0m\u001b[0m\n\u001b[0;32m--> 307\u001b[0;31m         \u001b[0;32mreturn\u001b[0m \u001b[0mself\u001b[0m\u001b[0;34m.\u001b[0m\u001b[0m_conv_forward\u001b[0m\u001b[0;34m(\u001b[0m\u001b[0minput\u001b[0m\u001b[0;34m,\u001b[0m \u001b[0mself\u001b[0m\u001b[0;34m.\u001b[0m\u001b[0mweight\u001b[0m\u001b[0;34m,\u001b[0m \u001b[0mself\u001b[0m\u001b[0;34m.\u001b[0m\u001b[0mbias\u001b[0m\u001b[0;34m)\u001b[0m\u001b[0;34m\u001b[0m\u001b[0;34m\u001b[0m\u001b[0m\n\u001b[0m\u001b[1;32m    308\u001b[0m \u001b[0;34m\u001b[0m\u001b[0m\n\u001b[1;32m    309\u001b[0m \u001b[0;34m\u001b[0m\u001b[0m\n",
            "\u001b[0;32m/usr/local/lib/python3.7/dist-packages/torch/nn/modules/conv.py\u001b[0m in \u001b[0;36m_conv_forward\u001b[0;34m(self, input, weight, bias)\u001b[0m\n\u001b[1;32m    302\u001b[0m                             _single(0), self.dilation, self.groups)\n\u001b[1;32m    303\u001b[0m         return F.conv1d(input, weight, bias, self.stride,\n\u001b[0;32m--> 304\u001b[0;31m                         self.padding, self.dilation, self.groups)\n\u001b[0m\u001b[1;32m    305\u001b[0m \u001b[0;34m\u001b[0m\u001b[0m\n\u001b[1;32m    306\u001b[0m     \u001b[0;32mdef\u001b[0m \u001b[0mforward\u001b[0m\u001b[0;34m(\u001b[0m\u001b[0mself\u001b[0m\u001b[0;34m,\u001b[0m \u001b[0minput\u001b[0m\u001b[0;34m:\u001b[0m \u001b[0mTensor\u001b[0m\u001b[0;34m)\u001b[0m \u001b[0;34m->\u001b[0m \u001b[0mTensor\u001b[0m\u001b[0;34m:\u001b[0m\u001b[0;34m\u001b[0m\u001b[0;34m\u001b[0m\u001b[0m\n",
            "\u001b[0;31mKeyboardInterrupt\u001b[0m: "
          ]
        }
      ],
      "source": [
        "\n",
        "sim_clr = SimCLR(\n",
        "    encoder = BasicNet(N_CHANNELS),\n",
        "    projection_dim = PROJECTION_DIM\n",
        ").to(device)\n",
        "'''\n",
        "autoen = Autoencoder(\n",
        "    output_features_size = 512,\n",
        ").to(device)\n",
        "sim_clr = SimCLR(\n",
        "    encoder = autoen.encoder,\n",
        "    projection_dim = PROJECTION_DIM\n",
        ").to(device)\n",
        "'''\n",
        "train_meta_info = pd.read_csv(TRAINSET_META_PATH, sep='\\t')\n",
        "#test_meta_info = pd.read_csv(TESTSET_META_PATH, sep='\\t')\n",
        "train_meta_info, validation_meta_info = train_val_split(train_meta_info, val_size=0.1)\n",
        "\n",
        "print(\"Loaded data\")\n",
        "print(\"Train set size: {}\".format(len(train_meta_info)))\n",
        "print(\"Validation set size: {}\".format(len(validation_meta_info)))\n",
        "#print(\"Test set size: {}\".format(len(test_meta_info)))\n",
        "print()\n",
        "\n",
        "print(\"Train\")\n",
        "l,m1,m2 = train(\n",
        "        module = sim_clr,\n",
        "        train_loader = TrainLoader(FeaturesLoader(TRAINSET_PATH, train_meta_info, device), batch_size = BATCH_SIZE),\n",
        "        val_loader = TestLoader(FeaturesLoader(TRAINSET_PATH, validation_meta_info, device), batch_size = BATCH_SIZE),\n",
        "        valset_meta = validation_meta_info,\n",
        "        optimizer = torch.optim.Adam(sim_clr.parameters(), lr = LR),\n",
        "        criterion = NT_Xent(temperature = TEMPERATURE),\n",
        "        num_epochs = NUM_EPOCHS,\n",
        "        checkpoint_path = CHECKPOINT_PATH\n",
        ")\n",
        "\n",
        "print(\"Submission\")\n",
        "#test_loader = TestLoader(FeaturesLoader(TESTSET_PATH, test_meta_info, device), batch_size = BATCH_SIZE)\n",
        "#model = sim_clr.encoder\n",
        "#embeds = inference(model, test_loader)\n",
        "#submission = get_ranked_list(embeds, 100)\n",
        "#save_submission(submission, SUBMISSION_PATH)\n",
        "#torch.save(sim_clr.state_dict(), MODEL_PATH)'''"
      ]
    },
    {
      "cell_type": "code",
      "source": [
        "sim_clr = torch.load('/content/modelka_5')"
      ],
      "metadata": {
        "id": "CbupIw1XDKR9"
      },
      "execution_count": null,
      "outputs": []
    },
    {
      "cell_type": "code",
      "source": [
        "train_meta_info = pd.read_csv(TRAINSET_META_PATH, sep='\\t')\n",
        "test_meta_info = pd.read_csv(TESTSET_META_PATH, sep='\\t')\n",
        "train_meta_info, validation_meta_info = train_val_split(train_meta_info, val_size=0.1)"
      ],
      "metadata": {
        "id": "-j9fgzQVGMeR"
      },
      "execution_count": null,
      "outputs": []
    },
    {
      "cell_type": "code",
      "source": [
        "test_loader = TestLoader(FeaturesLoader(TESTSET_PATH, test_meta_info, device), batch_size = BATCH_SIZE)\n",
        "model = sim_clr.encoder\n",
        "embeds = inference(model, test_loader)\n",
        "submission = get_ranked_list(embeds, 100)\n",
        "save_submission(submission, SUBMISSION_PATH)\n",
        "torch.save(sim_clr.state_dict(), MODEL_PATH)"
      ],
      "metadata": {
        "colab": {
          "base_uri": "https://localhost:8080/"
        },
        "id": "xRIoV7jfDOSK",
        "outputId": "a2712839-cb53-4a3e-f4d6-f42d2623e2b8"
      },
      "execution_count": null,
      "outputs": [
        {
          "output_type": "stream",
          "name": "stderr",
          "text": [
            "100%|██████████| 41377/41377 [05:01<00:00, 137.36it/s]\n"
          ]
        }
      ]
    },
    {
      "cell_type": "code",
      "execution_count": null,
      "metadata": {
        "id": "yseCrgK6gIFb"
      },
      "outputs": [],
      "source": [
        "import torch\n",
        "import torch.nn as nn\n",
        "import torch.nn.functional as F\n",
        "from torch.nn.utils import weight_norm\n",
        "\n",
        "from vector_quantize_pytorch import ResidualVQ\n",
        "\n",
        "# Generator\n",
        "\n",
        "\n",
        "class CausalConv1d(nn.Conv1d):\n",
        "    def __init__(self, *args, **kwargs):\n",
        "        super().__init__(*args, **kwargs)\n",
        "        self.causal_padding = self.dilation[0] * (self.kernel_size[0] - 1)\n",
        "\n",
        "    def forward(self, x):\n",
        "        return self._conv_forward(F.pad(x, [self.causal_padding, 0]), self.weight, self.bias)\n",
        "\n",
        "\n",
        "class CausalConvTranspose1d(nn.ConvTranspose1d):\n",
        "    def __init__(self, *args, **kwargs):\n",
        "        super().__init__(*args, **kwargs)\n",
        "        self.causal_padding = self.dilation[0] * (self.kernel_size[0] - 1) + self.output_padding[0] + 1 - self.stride[0]\n",
        "    \n",
        "    def forward(self, x, output_size=None):\n",
        "        if self.padding_mode != 'zeros':\n",
        "            raise ValueError('Only `zeros` padding mode is supported for ConvTranspose1d')\n",
        "\n",
        "        assert isinstance(self.padding, tuple)\n",
        "        output_padding = self._output_padding(\n",
        "            x, output_size, self.stride, self.padding, self.kernel_size, self.dilation)\n",
        "        return F.conv_transpose1d(\n",
        "            x, self.weight, self.bias, self.stride, self.padding,\n",
        "            output_padding, self.groups, self.dilation)[...,:-self.causal_padding]\n",
        "\n",
        "\n",
        "class ResidualUnit(nn.Module):\n",
        "    def __init__(self, in_channels, out_channels, dilation):\n",
        "        super().__init__()\n",
        "        \n",
        "        self.dilation = dilation\n",
        "\n",
        "        self.layers = nn.Sequential(\n",
        "            CausalConv1d(in_channels=in_channels, out_channels=out_channels,\n",
        "                      kernel_size=7, dilation=dilation),\n",
        "            nn.ELU(),\n",
        "            nn.Conv1d(in_channels=in_channels, out_channels=out_channels,\n",
        "                      kernel_size=1)\n",
        "        )\n",
        "\n",
        "    def forward(self, x):\n",
        "        return x + self.layers(x)\n",
        "\n",
        "\n",
        "class EncoderBlock(nn.Module):\n",
        "    def __init__(self, out_channels, stride):\n",
        "        super().__init__()\n",
        "        \n",
        "        self.layers = nn.Sequential(\n",
        "            ResidualUnit(in_channels=out_channels//2,\n",
        "                         out_channels=out_channels//2, dilation=1),\n",
        "            nn.ELU(),\n",
        "            ResidualUnit(in_channels=out_channels//2,\n",
        "                         out_channels=out_channels//2, dilation=3),\n",
        "            nn.ELU(),\n",
        "            ResidualUnit(in_channels=out_channels//2,\n",
        "                         out_channels=out_channels//2, dilation=9),\n",
        "            nn.ELU(),\n",
        "            CausalConv1d(in_channels=out_channels//2, out_channels=out_channels,\n",
        "                      kernel_size=2*stride, stride=stride)\n",
        "        )\n",
        "\n",
        "    def forward(self, x):\n",
        "        return self.layers(x)\n",
        "\n",
        "class Encoder(nn.Module):\n",
        "    def __init__(self, C, D):\n",
        "        super().__init__()\n",
        "        self.output_features_size = D\n",
        "        self.layers = nn.Sequential(\n",
        "            CausalConv1d(in_channels=512, out_channels=C, kernel_size=7),\n",
        "            nn.ELU(),\n",
        "            EncoderBlock(out_channels=2*C, stride=2),\n",
        "            nn.ELU(),\n",
        "            EncoderBlock(out_channels=4*C, stride=4),\n",
        "            nn.ELU(),\n",
        "            EncoderBlock(out_channels=8*C, stride=5),\n",
        "            nn.ELU(),\n",
        "            EncoderBlock(out_channels=16*C, stride=8),\n",
        "            nn.ELU(),\n",
        "            CausalConv1d(in_channels=16*C, out_channels=D, kernel_size=3)\n",
        "        )\n",
        "\n",
        "    def forward(self, x):\n",
        "        return self.layers(x)"
      ]
    },
    {
      "cell_type": "markdown",
      "metadata": {
        "id": "j36BYeXHwj1F"
      },
      "source": [
        "**Encoder**"
      ]
    },
    {
      "cell_type": "code",
      "execution_count": null,
      "metadata": {
        "id": "xCPQSH9OxdYX"
      },
      "outputs": [],
      "source": [
        "def train_ae(module, train_loader,optimizer, criterion, num_epochs): #, val_loader, valset_meta, optimizer, criterion, num_epochs, checkpoint_path, top_size = 100):\n",
        "    max_ndcg = None\n",
        "    losses = []\n",
        "    for epoch in range(num_epochs):\n",
        "        for tracks_ids, tracks_features in train_loader:\n",
        "            optimizer.zero_grad()\n",
        "            module.train()\n",
        "            reconstructed, _ = module(tracks_features)\n",
        "            loss = criterion(reconstructed, tracks_features)\n",
        "            loss.backward()\n",
        "            optimizer.step()\n",
        "            print(\"Epoch {}/{}\".format(epoch+1, num_epochs))\n",
        "            print(\"loss: {}\".format(loss))\n",
        "            print()\n",
        "            losses.append(loss.item())\n",
        "        '''with torch.no_grad():\n",
        "            module.eval()\n",
        "            for X_batch in val_loader:\n",
        "                X_batch = X_batch.view(-1, 3, 64, 64).float()\n",
        "                reconstructed, _ = model(X_batch.to(device))\n",
        "                loss = loss_fn(reconstructed.view(-1, 3, 64, 64), X_batch.to(device))\n",
        "                val_losses_per_epoch.append(loss.item())\n",
        "            \n",
        "            print(\"Validation nDCG on epoch {}\".format(epoch))\n",
        "            print(\"Encoder - {}\".format(val_ndcg_encoder))\n",
        "            print(\"Projector - {}\".format(val_ndcg_projector))\n",
        "            if (max_ndcg is None) or (val_ndcg_encoder > max_ndcg):\n",
        "                max_ndcg = val_ndcg_encoder\n",
        "                torch.save(model_encoder.state_dict(), checkpoint_path)'''\n",
        "    return losses"
      ]
    },
    {
      "cell_type": "code",
      "execution_count": null,
      "metadata": {
        "id": "E-MpjqMexCa6"
      },
      "outputs": [],
      "source": [
        "\n",
        "class Autoencoder(nn.Module):\n",
        "    def __init__(self, output_features_size):\n",
        "        super().__init__()\n",
        "        self.n_features = output_features_size\n",
        "\n",
        "        self.encoder = nn.Sequential(\n",
        "            nn.Conv1d(512, self.n_features, kernel_size=3, padding=1),\n",
        "            nn.Conv1d(self.n_features, self.n_features, kernel_size=3, padding=1),\n",
        "            nn.Conv1d(self.n_features, self.n_features, kernel_size=3, padding=1),\n",
        "\n",
        "            nn.MaxPool1d(2, 2, return_indices=False),\n",
        "\n",
        "            nn.Conv1d(self.n_features, self.n_features//2, kernel_size=3, padding=1),\n",
        "            nn.Conv1d(self.n_features//2, self.n_features//2, kernel_size=3, padding=1),\n",
        "\n",
        "            nn.Conv1d(self.n_features//2, self.n_features//2, kernel_size=3, padding=1),\n",
        "            nn.Conv1d(self.n_features//2, self.n_features//4, kernel_size=3, padding=1),\n",
        "\n",
        "            nn.MaxPool1d(2, 2, return_indices=False),\n",
        "\n",
        "            nn.Conv1d(self.n_features//4, self.n_features//4, kernel_size=3, padding=1),\n",
        "            nn.Conv1d(self.n_features//4, self.n_features//4, kernel_size=3, padding=1)\n",
        "        )\n",
        "       \n",
        "        self.decoder = nn.Sequential(\n",
        "            nn.ConvTranspose1d(self.n_features//4, self.n_features//4, kernel_size=3, padding=1),\n",
        "            nn.ConvTranspose1d(self.n_features//4, self.n_features//4,stride =2, kernel_size=3, padding=0),\n",
        "           #nn.MaxUnpool1d(2),\n",
        "            nn.ConvTranspose1d(self.n_features//4, self.n_features//2, kernel_size=3, padding=1),\n",
        "            nn.ConvTranspose1d(self.n_features//2, self.n_features//2, kernel_size=3, padding=1),\n",
        "            #nn.MaxUnpool1d(2),\n",
        "            nn.ConvTranspose1d(self.n_features//2, self.n_features,stride = 2,kernel_size=2, padding=1),\n",
        "            nn.ConvTranspose1d(self.n_features, self.n_features, kernel_size=3, padding=1)\n",
        "        )\n",
        "\n",
        "    def forward(self, x):\n",
        "        #print('x.shape ' , x.shape)\n",
        "        latent = self.encoder(x) #.view(-1, 512)\n",
        "        #print('latent.shape ' ,latent.shape)\n",
        "        #latent = self.encoder(x)\n",
        "        reconstructed = self.decoder(latent)\n",
        "        #print('reconstructed.shape ' ,reconstructed.shape)\n",
        "        return reconstructed, latent\n"
      ]
    },
    {
      "cell_type": "code",
      "execution_count": null,
      "metadata": {
        "id": "hD-HT2dG4RR6"
      },
      "outputs": [],
      "source": [
        "autoen = Autoencoder(\n",
        "    output_features_size = 512,\n",
        ").to(device)"
      ]
    },
    {
      "cell_type": "code",
      "execution_count": null,
      "metadata": {
        "colab": {
          "base_uri": "https://localhost:8080/"
        },
        "id": "_Pj2uIndqNa5",
        "outputId": "00c31eea-f5d7-4b1f-a0d2-72712480bd8b"
      },
      "outputs": [
        {
          "data": {
            "text/plain": [
              "Sequential(\n",
              "  (0): Conv1d(512, 512, kernel_size=(3,), stride=(1,), padding=(1,))\n",
              "  (1): Conv1d(512, 512, kernel_size=(3,), stride=(1,), padding=(1,))\n",
              "  (2): Conv1d(512, 512, kernel_size=(3,), stride=(1,), padding=(1,))\n",
              "  (3): MaxPool1d(kernel_size=2, stride=2, padding=0, dilation=1, ceil_mode=False)\n",
              "  (4): Conv1d(512, 256, kernel_size=(3,), stride=(1,), padding=(1,))\n",
              "  (5): Conv1d(256, 256, kernel_size=(3,), stride=(1,), padding=(1,))\n",
              "  (6): Conv1d(256, 256, kernel_size=(3,), stride=(1,), padding=(1,))\n",
              "  (7): Conv1d(256, 128, kernel_size=(3,), stride=(1,), padding=(1,))\n",
              "  (8): MaxPool1d(kernel_size=2, stride=2, padding=0, dilation=1, ceil_mode=False)\n",
              "  (9): Conv1d(128, 128, kernel_size=(3,), stride=(1,), padding=(1,))\n",
              "  (10): Conv1d(128, 128, kernel_size=(3,), stride=(1,), padding=(1,))\n",
              ")"
            ]
          },
          "execution_count": 81,
          "metadata": {},
          "output_type": "execute_result"
        }
      ],
      "source": [
        "autoen.encoder"
      ]
    },
    {
      "cell_type": "code",
      "execution_count": null,
      "metadata": {
        "colab": {
          "base_uri": "https://localhost:8080/",
          "height": 1000
        },
        "id": "yLdIGPTN3g8D",
        "outputId": "91299f33-3b0b-4616-a76e-8fef9c862985"
      },
      "outputs": [
        {
          "name": "stderr",
          "output_type": "stream",
          "text": [
            "  1%|          | 512/44800 [00:00<01:05, 675.75it/s]"
          ]
        },
        {
          "name": "stdout",
          "output_type": "stream",
          "text": [
            "Epoch 1/20\n",
            "loss: 0.2880333662033081\n",
            "\n",
            "Epoch 1/20\n",
            "loss: 0.2836017608642578\n",
            "\n"
          ]
        },
        {
          "name": "stderr",
          "output_type": "stream",
          "text": [
            "  3%|▎         | 1536/44800 [00:02<01:23, 520.58it/s]"
          ]
        },
        {
          "name": "stdout",
          "output_type": "stream",
          "text": [
            "Epoch 1/20\n",
            "loss: 0.28045207262039185\n",
            "\n"
          ]
        },
        {
          "name": "stderr",
          "output_type": "stream",
          "text": [
            "\r  5%|▍         | 2048/44800 [00:04<01:39, 431.79it/s]"
          ]
        },
        {
          "name": "stdout",
          "output_type": "stream",
          "text": [
            "Epoch 1/20\n",
            "loss: 0.28080520033836365\n",
            "\n"
          ]
        },
        {
          "name": "stderr",
          "output_type": "stream",
          "text": [
            "\r  6%|▌         | 2560/44800 [00:05<01:40, 418.91it/s]"
          ]
        },
        {
          "name": "stdout",
          "output_type": "stream",
          "text": [
            "Epoch 1/20\n",
            "loss: 0.2804797291755676\n",
            "\n"
          ]
        },
        {
          "name": "stderr",
          "output_type": "stream",
          "text": [
            "\r  7%|▋         | 3072/44800 [00:06<01:39, 417.48it/s]"
          ]
        },
        {
          "name": "stdout",
          "output_type": "stream",
          "text": [
            "Epoch 1/20\n",
            "loss: 0.27394720911979675\n",
            "\n"
          ]
        },
        {
          "name": "stderr",
          "output_type": "stream",
          "text": [
            "\r  8%|▊         | 3584/44800 [00:07<01:36, 427.59it/s]"
          ]
        },
        {
          "name": "stdout",
          "output_type": "stream",
          "text": [
            "Epoch 1/20\n",
            "loss: 0.2738777995109558\n",
            "\n",
            "Epoch 1/20\n"
          ]
        },
        {
          "name": "stderr",
          "output_type": "stream",
          "text": [
            "\r  9%|▉         | 4096/44800 [00:09<01:41, 400.17it/s]"
          ]
        },
        {
          "name": "stdout",
          "output_type": "stream",
          "text": [
            "loss: 0.26826682686805725\n",
            "\n",
            "Epoch 1/20\n"
          ]
        },
        {
          "name": "stderr",
          "output_type": "stream",
          "text": [
            "\r 10%|█         | 4608/44800 [00:10<01:45, 381.09it/s]"
          ]
        },
        {
          "name": "stdout",
          "output_type": "stream",
          "text": [
            "loss: 0.2602991759777069\n",
            "\n"
          ]
        },
        {
          "name": "stderr",
          "output_type": "stream",
          "text": [
            "\r 11%|█▏        | 5120/44800 [00:12<01:47, 367.50it/s]"
          ]
        },
        {
          "name": "stdout",
          "output_type": "stream",
          "text": [
            "Epoch 1/20\n",
            "loss: 0.2538875639438629\n",
            "\n"
          ]
        },
        {
          "name": "stderr",
          "output_type": "stream",
          "text": [
            "\r 13%|█▎        | 5632/44800 [00:13<01:47, 365.93it/s]"
          ]
        },
        {
          "name": "stdout",
          "output_type": "stream",
          "text": [
            "Epoch 1/20\n",
            "loss: 0.2339681088924408\n",
            "\n",
            "Epoch 1/20\n"
          ]
        },
        {
          "name": "stderr",
          "output_type": "stream",
          "text": [
            "\r 14%|█▎        | 6144/44800 [00:15<01:45, 365.82it/s]"
          ]
        },
        {
          "name": "stdout",
          "output_type": "stream",
          "text": [
            "loss: 0.2085048407316208\n",
            "\n"
          ]
        },
        {
          "name": "stderr",
          "output_type": "stream",
          "text": [
            "\r 15%|█▍        | 6656/44800 [00:16<01:44, 365.04it/s]"
          ]
        },
        {
          "name": "stdout",
          "output_type": "stream",
          "text": [
            "Epoch 1/20\n",
            "loss: 0.17056430876255035\n",
            "\n"
          ]
        },
        {
          "name": "stderr",
          "output_type": "stream",
          "text": [
            "\r 16%|█▌        | 7168/44800 [00:18<01:44, 359.50it/s]"
          ]
        },
        {
          "name": "stdout",
          "output_type": "stream",
          "text": [
            "Epoch 1/20\n",
            "loss: 0.17878147959709167\n",
            "\n",
            "Epoch 1/20\n",
            "loss: 0.16831596195697784\n",
            "\n"
          ]
        },
        {
          "name": "stderr",
          "output_type": "stream",
          "text": [
            " 18%|█▊        | 8192/44800 [00:20<01:41, 359.25it/s]"
          ]
        },
        {
          "name": "stdout",
          "output_type": "stream",
          "text": [
            "Epoch 1/20\n",
            "loss: 0.14492356777191162\n",
            "\n"
          ]
        },
        {
          "name": "stderr",
          "output_type": "stream",
          "text": [
            "\r 19%|█▉        | 8704/44800 [00:22<01:41, 357.35it/s]"
          ]
        },
        {
          "name": "stdout",
          "output_type": "stream",
          "text": [
            "Epoch 1/20\n",
            "loss: 0.14487820863723755\n",
            "\n"
          ]
        },
        {
          "name": "stderr",
          "output_type": "stream",
          "text": [
            "\r 21%|██        | 9216/44800 [00:23<01:39, 356.17it/s]"
          ]
        },
        {
          "name": "stdout",
          "output_type": "stream",
          "text": [
            "Epoch 1/20\n",
            "loss: 0.15003640949726105\n",
            "\n"
          ]
        },
        {
          "name": "stderr",
          "output_type": "stream",
          "text": [
            "\r 22%|██▏       | 9728/44800 [00:25<01:39, 352.91it/s]"
          ]
        },
        {
          "name": "stdout",
          "output_type": "stream",
          "text": [
            "Epoch 1/20\n",
            "loss: 0.1485280841588974\n",
            "\n"
          ]
        },
        {
          "name": "stderr",
          "output_type": "stream",
          "text": [
            "\r 23%|██▎       | 10240/44800 [00:26<01:38, 351.32it/s]"
          ]
        },
        {
          "name": "stdout",
          "output_type": "stream",
          "text": [
            "Epoch 1/20\n",
            "loss: 0.14142560958862305\n",
            "\n"
          ]
        },
        {
          "name": "stderr",
          "output_type": "stream",
          "text": [
            "\r 24%|██▍       | 10752/44800 [00:28<01:36, 351.47it/s]"
          ]
        },
        {
          "name": "stdout",
          "output_type": "stream",
          "text": [
            "Epoch 1/20\n",
            "loss: 0.13748781383037567\n",
            "\n"
          ]
        },
        {
          "name": "stderr",
          "output_type": "stream",
          "text": [
            "\r 25%|██▌       | 11264/44800 [00:29<01:35, 349.62it/s]"
          ]
        },
        {
          "name": "stdout",
          "output_type": "stream",
          "text": [
            "Epoch 1/20\n",
            "loss: 0.13317200541496277\n",
            "\n"
          ]
        },
        {
          "name": "stderr",
          "output_type": "stream",
          "text": [
            "\r 26%|██▋       | 11776/44800 [00:31<01:34, 349.36it/s]"
          ]
        },
        {
          "name": "stdout",
          "output_type": "stream",
          "text": [
            "Epoch 1/20\n",
            "loss: 0.14295431971549988\n",
            "\n"
          ]
        },
        {
          "name": "stderr",
          "output_type": "stream",
          "text": [
            "\r 27%|██▋       | 12288/44800 [00:32<01:33, 347.78it/s]"
          ]
        },
        {
          "name": "stdout",
          "output_type": "stream",
          "text": [
            "Epoch 1/20\n",
            "loss: 0.13885468244552612\n",
            "\n"
          ]
        },
        {
          "name": "stderr",
          "output_type": "stream",
          "text": [
            "\r 29%|██▊       | 12800/44800 [00:34<01:34, 337.86it/s]"
          ]
        },
        {
          "name": "stdout",
          "output_type": "stream",
          "text": [
            "Epoch 1/20\n",
            "loss: 0.13553312420845032\n",
            "\n"
          ]
        },
        {
          "name": "stderr",
          "output_type": "stream",
          "text": [
            "\r 30%|██▉       | 13312/44800 [00:35<01:33, 336.29it/s]"
          ]
        },
        {
          "name": "stdout",
          "output_type": "stream",
          "text": [
            "Epoch 1/20\n",
            "loss: 0.13372403383255005\n",
            "\n"
          ]
        },
        {
          "name": "stderr",
          "output_type": "stream",
          "text": [
            "\r 31%|███       | 13824/44800 [00:37<01:31, 339.49it/s]"
          ]
        },
        {
          "name": "stdout",
          "output_type": "stream",
          "text": [
            "Epoch 1/20\n",
            "loss: 0.13594815135002136\n",
            "\n"
          ]
        },
        {
          "name": "stderr",
          "output_type": "stream",
          "text": [
            "\r 32%|███▏      | 14336/44800 [00:38<01:27, 346.19it/s]"
          ]
        },
        {
          "name": "stdout",
          "output_type": "stream",
          "text": [
            "Epoch 1/20\n",
            "loss: 0.13748173415660858\n",
            "\n"
          ]
        },
        {
          "name": "stderr",
          "output_type": "stream",
          "text": [
            "\r 33%|███▎      | 14848/44800 [00:40<01:26, 345.80it/s]"
          ]
        },
        {
          "name": "stdout",
          "output_type": "stream",
          "text": [
            "Epoch 1/20\n",
            "loss: 0.13687710464000702\n",
            "\n"
          ]
        },
        {
          "name": "stderr",
          "output_type": "stream",
          "text": [
            "\r 34%|███▍      | 15360/44800 [00:41<01:25, 344.04it/s]"
          ]
        },
        {
          "name": "stdout",
          "output_type": "stream",
          "text": [
            "Epoch 1/20\n",
            "loss: 0.132197305560112\n",
            "\n"
          ]
        },
        {
          "name": "stderr",
          "output_type": "stream",
          "text": [
            "\r 35%|███▌      | 15872/44800 [00:43<01:24, 342.33it/s]"
          ]
        },
        {
          "name": "stdout",
          "output_type": "stream",
          "text": [
            "Epoch 1/20\n",
            "loss: 0.13102121651172638\n",
            "\n"
          ]
        },
        {
          "name": "stderr",
          "output_type": "stream",
          "text": [
            "\r 37%|███▋      | 16384/44800 [00:44<01:22, 345.65it/s]"
          ]
        },
        {
          "name": "stdout",
          "output_type": "stream",
          "text": [
            "Epoch 1/20\n",
            "loss: 0.13524849712848663\n",
            "\n"
          ]
        },
        {
          "name": "stderr",
          "output_type": "stream",
          "text": [
            "\r 38%|███▊      | 16896/44800 [00:46<01:20, 347.65it/s]"
          ]
        },
        {
          "name": "stdout",
          "output_type": "stream",
          "text": [
            "Epoch 1/20\n",
            "loss: 0.13474230468273163\n",
            "\n"
          ]
        },
        {
          "name": "stderr",
          "output_type": "stream",
          "text": [
            "\r 39%|███▉      | 17408/44800 [00:47<01:19, 343.68it/s]"
          ]
        },
        {
          "name": "stdout",
          "output_type": "stream",
          "text": [
            "Epoch 1/20\n",
            "loss: 0.13237591087818146\n",
            "\n"
          ]
        },
        {
          "name": "stderr",
          "output_type": "stream",
          "text": [
            "\r 40%|████      | 17920/44800 [00:49<01:18, 344.39it/s]"
          ]
        },
        {
          "name": "stdout",
          "output_type": "stream",
          "text": [
            "Epoch 1/20\n",
            "loss: 0.13215716183185577\n",
            "\n"
          ]
        },
        {
          "name": "stderr",
          "output_type": "stream",
          "text": [
            "\r 41%|████      | 18432/44800 [00:50<01:15, 347.43it/s]"
          ]
        },
        {
          "name": "stdout",
          "output_type": "stream",
          "text": [
            "Epoch 1/20\n",
            "loss: 0.13239765167236328\n",
            "\n"
          ]
        },
        {
          "name": "stderr",
          "output_type": "stream",
          "text": [
            "\r 42%|████▏     | 18944/44800 [00:52<01:13, 349.82it/s]"
          ]
        },
        {
          "name": "stdout",
          "output_type": "stream",
          "text": [
            "Epoch 1/20\n",
            "loss: 0.13440677523612976\n",
            "\n"
          ]
        },
        {
          "name": "stderr",
          "output_type": "stream",
          "text": [
            "\r 43%|████▎     | 19456/44800 [00:53<01:12, 350.53it/s]"
          ]
        },
        {
          "name": "stdout",
          "output_type": "stream",
          "text": [
            "Epoch 1/20\n",
            "loss: 0.1323341280221939\n",
            "\n"
          ]
        },
        {
          "name": "stderr",
          "output_type": "stream",
          "text": [
            "\r 45%|████▍     | 19968/44800 [00:54<01:10, 352.93it/s]"
          ]
        },
        {
          "name": "stdout",
          "output_type": "stream",
          "text": [
            "Epoch 1/20\n",
            "loss: 0.13391193747520447\n",
            "\n"
          ]
        },
        {
          "name": "stderr",
          "output_type": "stream",
          "text": [
            "\r 46%|████▌     | 20480/44800 [00:56<01:08, 357.37it/s]"
          ]
        },
        {
          "name": "stdout",
          "output_type": "stream",
          "text": [
            "Epoch 1/20\n",
            "loss: 0.13144750893115997\n",
            "\n"
          ]
        },
        {
          "name": "stderr",
          "output_type": "stream",
          "text": [
            "\r 47%|████▋     | 20992/44800 [00:57<01:05, 361.89it/s]"
          ]
        },
        {
          "name": "stdout",
          "output_type": "stream",
          "text": [
            "Epoch 1/20\n",
            "loss: 0.1310926079750061\n",
            "\n"
          ]
        },
        {
          "name": "stderr",
          "output_type": "stream",
          "text": [
            "\r 48%|████▊     | 21504/44800 [00:59<01:04, 361.42it/s]"
          ]
        },
        {
          "name": "stdout",
          "output_type": "stream",
          "text": [
            "Epoch 1/20\n",
            "loss: 0.13078059256076813\n",
            "\n"
          ]
        },
        {
          "name": "stderr",
          "output_type": "stream",
          "text": [
            "\r 49%|████▉     | 22016/44800 [01:00<01:04, 354.79it/s]"
          ]
        },
        {
          "name": "stdout",
          "output_type": "stream",
          "text": [
            "Epoch 1/20\n",
            "loss: 0.13156762719154358\n",
            "\n"
          ]
        },
        {
          "name": "stderr",
          "output_type": "stream",
          "text": [
            "\r 50%|█████     | 22528/44800 [01:02<01:02, 355.44it/s]"
          ]
        },
        {
          "name": "stdout",
          "output_type": "stream",
          "text": [
            "Epoch 1/20\n",
            "loss: 0.12923532724380493\n",
            "\n"
          ]
        },
        {
          "name": "stderr",
          "output_type": "stream",
          "text": [
            "\r 51%|█████▏    | 23040/44800 [01:03<01:01, 356.41it/s]"
          ]
        },
        {
          "name": "stdout",
          "output_type": "stream",
          "text": [
            "Epoch 1/20\n",
            "loss: 0.13077804446220398\n",
            "\n"
          ]
        },
        {
          "name": "stderr",
          "output_type": "stream",
          "text": [
            "\r 53%|█████▎    | 23552/44800 [01:04<00:58, 360.57it/s]"
          ]
        },
        {
          "name": "stdout",
          "output_type": "stream",
          "text": [
            "Epoch 1/20\n",
            "loss: 0.13144437968730927\n",
            "\n"
          ]
        },
        {
          "name": "stderr",
          "output_type": "stream",
          "text": [
            "\r 54%|█████▎    | 24064/44800 [01:06<00:57, 361.14it/s]"
          ]
        },
        {
          "name": "stdout",
          "output_type": "stream",
          "text": [
            "Epoch 1/20\n",
            "loss: 0.13067670166492462\n",
            "\n"
          ]
        },
        {
          "name": "stderr",
          "output_type": "stream",
          "text": [
            "\r 55%|█████▍    | 24576/44800 [01:07<00:56, 358.58it/s]"
          ]
        },
        {
          "name": "stdout",
          "output_type": "stream",
          "text": [
            "Epoch 1/20\n",
            "loss: 0.13010528683662415\n",
            "\n"
          ]
        },
        {
          "name": "stderr",
          "output_type": "stream",
          "text": [
            "\r 56%|█████▌    | 25088/44800 [01:09<00:54, 360.49it/s]"
          ]
        },
        {
          "name": "stdout",
          "output_type": "stream",
          "text": [
            "Epoch 1/20\n",
            "loss: 0.1323729157447815\n",
            "\n"
          ]
        },
        {
          "name": "stderr",
          "output_type": "stream",
          "text": [
            "\r 57%|█████▋    | 25600/44800 [01:10<00:53, 359.69it/s]"
          ]
        },
        {
          "name": "stdout",
          "output_type": "stream",
          "text": [
            "Epoch 1/20\n",
            "loss: 0.13012456893920898\n",
            "\n"
          ]
        },
        {
          "name": "stderr",
          "output_type": "stream",
          "text": [
            "\r 58%|█████▊    | 26112/44800 [01:11<00:51, 361.43it/s]"
          ]
        },
        {
          "name": "stdout",
          "output_type": "stream",
          "text": [
            "Epoch 1/20\n",
            "loss: 0.13144278526306152\n",
            "\n"
          ]
        },
        {
          "name": "stderr",
          "output_type": "stream",
          "text": [
            "\r 59%|█████▉    | 26624/44800 [01:13<00:50, 360.44it/s]"
          ]
        },
        {
          "name": "stdout",
          "output_type": "stream",
          "text": [
            "Epoch 1/20\n",
            "loss: 0.12979908287525177\n",
            "\n"
          ]
        },
        {
          "name": "stderr",
          "output_type": "stream",
          "text": [
            "\r 61%|██████    | 27136/44800 [01:14<00:49, 357.89it/s]"
          ]
        },
        {
          "name": "stdout",
          "output_type": "stream",
          "text": [
            "Epoch 1/20\n",
            "loss: 0.13004206120967865\n",
            "\n"
          ]
        },
        {
          "name": "stderr",
          "output_type": "stream",
          "text": [
            "\r 62%|██████▏   | 27648/44800 [01:16<00:48, 354.28it/s]"
          ]
        },
        {
          "name": "stdout",
          "output_type": "stream",
          "text": [
            "Epoch 1/20\n",
            "loss: 0.12991103529930115\n",
            "\n"
          ]
        },
        {
          "name": "stderr",
          "output_type": "stream",
          "text": [
            "\r 63%|██████▎   | 28160/44800 [01:17<00:46, 355.57it/s]"
          ]
        },
        {
          "name": "stdout",
          "output_type": "stream",
          "text": [
            "Epoch 1/20\n",
            "loss: 0.13071522116661072\n",
            "\n"
          ]
        },
        {
          "name": "stderr",
          "output_type": "stream",
          "text": [
            "\r 64%|██████▍   | 28672/44800 [01:19<00:46, 350.41it/s]"
          ]
        },
        {
          "name": "stdout",
          "output_type": "stream",
          "text": [
            "Epoch 1/20\n",
            "loss: 0.12879538536071777\n",
            "\n"
          ]
        },
        {
          "name": "stderr",
          "output_type": "stream",
          "text": [
            "\r 65%|██████▌   | 29184/44800 [01:20<00:45, 342.46it/s]"
          ]
        },
        {
          "name": "stdout",
          "output_type": "stream",
          "text": [
            "Epoch 1/20\n",
            "loss: 0.1285291165113449\n",
            "\n"
          ]
        },
        {
          "name": "stderr",
          "output_type": "stream",
          "text": [
            "\r 66%|██████▋   | 29696/44800 [01:22<00:44, 340.72it/s]"
          ]
        },
        {
          "name": "stdout",
          "output_type": "stream",
          "text": [
            "Epoch 1/20\n",
            "loss: 0.1300046741962433\n",
            "\n"
          ]
        },
        {
          "name": "stderr",
          "output_type": "stream",
          "text": [
            "\r 67%|██████▋   | 30208/44800 [01:23<00:42, 344.34it/s]"
          ]
        },
        {
          "name": "stdout",
          "output_type": "stream",
          "text": [
            "Epoch 1/20\n",
            "loss: 0.13087816536426544\n",
            "\n"
          ]
        },
        {
          "name": "stderr",
          "output_type": "stream",
          "text": [
            "\r 69%|██████▊   | 30720/44800 [01:25<00:40, 344.69it/s]"
          ]
        },
        {
          "name": "stdout",
          "output_type": "stream",
          "text": [
            "Epoch 1/20\n",
            "loss: 0.13031595945358276\n",
            "\n"
          ]
        },
        {
          "name": "stderr",
          "output_type": "stream",
          "text": [
            "\r 70%|██████▉   | 31232/44800 [01:26<00:39, 342.14it/s]"
          ]
        },
        {
          "name": "stdout",
          "output_type": "stream",
          "text": [
            "Epoch 1/20\n",
            "loss: 0.12821242213249207\n",
            "\n"
          ]
        },
        {
          "name": "stderr",
          "output_type": "stream",
          "text": [
            "\r 71%|███████   | 31744/44800 [01:28<00:37, 344.90it/s]"
          ]
        },
        {
          "name": "stdout",
          "output_type": "stream",
          "text": [
            "Epoch 1/20\n",
            "loss: 0.1286560744047165\n",
            "\n"
          ]
        },
        {
          "name": "stderr",
          "output_type": "stream",
          "text": [
            "\r 72%|███████▏  | 32256/44800 [01:29<00:36, 347.90it/s]"
          ]
        },
        {
          "name": "stdout",
          "output_type": "stream",
          "text": [
            "Epoch 1/20\n",
            "loss: 0.1281888484954834\n",
            "\n"
          ]
        },
        {
          "name": "stderr",
          "output_type": "stream",
          "text": [
            "\r 73%|███████▎  | 32768/44800 [01:31<00:34, 351.44it/s]"
          ]
        },
        {
          "name": "stdout",
          "output_type": "stream",
          "text": [
            "Epoch 1/20\n",
            "loss: 0.12911339104175568\n",
            "\n"
          ]
        },
        {
          "name": "stderr",
          "output_type": "stream",
          "text": [
            "\r 74%|███████▍  | 33280/44800 [01:32<00:32, 351.69it/s]"
          ]
        },
        {
          "name": "stdout",
          "output_type": "stream",
          "text": [
            "Epoch 1/20\n",
            "loss: 0.12984763085842133\n",
            "\n"
          ]
        },
        {
          "name": "stderr",
          "output_type": "stream",
          "text": [
            "\r 75%|███████▌  | 33792/44800 [01:33<00:31, 354.28it/s]"
          ]
        },
        {
          "name": "stdout",
          "output_type": "stream",
          "text": [
            "Epoch 1/20\n",
            "loss: 0.1294097751379013\n",
            "\n"
          ]
        },
        {
          "name": "stderr",
          "output_type": "stream",
          "text": [
            "\r 77%|███████▋  | 34304/44800 [01:35<00:29, 356.95it/s]"
          ]
        },
        {
          "name": "stdout",
          "output_type": "stream",
          "text": [
            "Epoch 1/20\n",
            "loss: 0.12978172302246094\n",
            "\n"
          ]
        },
        {
          "name": "stderr",
          "output_type": "stream",
          "text": [
            "\r 78%|███████▊  | 34816/44800 [01:36<00:27, 360.22it/s]"
          ]
        },
        {
          "name": "stdout",
          "output_type": "stream",
          "text": [
            "Epoch 1/20\n",
            "loss: 0.13012278079986572\n",
            "\n"
          ]
        },
        {
          "name": "stderr",
          "output_type": "stream",
          "text": [
            "\r 79%|███████▉  | 35328/44800 [01:38<00:26, 364.18it/s]"
          ]
        },
        {
          "name": "stdout",
          "output_type": "stream",
          "text": [
            "Epoch 1/20\n",
            "loss: 0.13044963777065277\n",
            "\n"
          ]
        },
        {
          "name": "stderr",
          "output_type": "stream",
          "text": [
            "\r 80%|████████  | 35840/44800 [01:39<00:24, 360.85it/s]"
          ]
        },
        {
          "name": "stdout",
          "output_type": "stream",
          "text": [
            "Epoch 1/20\n",
            "loss: 0.12676459550857544\n",
            "\n"
          ]
        },
        {
          "name": "stderr",
          "output_type": "stream",
          "text": [
            "\r 81%|████████  | 36352/44800 [01:41<00:23, 362.51it/s]"
          ]
        },
        {
          "name": "stdout",
          "output_type": "stream",
          "text": [
            "Epoch 1/20\n",
            "loss: 0.12919580936431885\n",
            "\n"
          ]
        },
        {
          "name": "stderr",
          "output_type": "stream",
          "text": [
            "\r 82%|████████▏ | 36864/44800 [01:42<00:21, 361.93it/s]"
          ]
        },
        {
          "name": "stdout",
          "output_type": "stream",
          "text": [
            "Epoch 1/20\n",
            "loss: 0.12821316719055176\n",
            "\n"
          ]
        },
        {
          "name": "stderr",
          "output_type": "stream",
          "text": [
            "\r 83%|████████▎ | 37376/44800 [01:43<00:20, 360.29it/s]"
          ]
        },
        {
          "name": "stdout",
          "output_type": "stream",
          "text": [
            "Epoch 1/20\n",
            "loss: 0.12833496928215027\n",
            "\n"
          ]
        },
        {
          "name": "stderr",
          "output_type": "stream",
          "text": [
            "\r 85%|████████▍ | 37888/44800 [01:45<00:19, 357.78it/s]"
          ]
        },
        {
          "name": "stdout",
          "output_type": "stream",
          "text": [
            "Epoch 1/20\n",
            "loss: 0.1285330057144165\n",
            "\n"
          ]
        },
        {
          "name": "stderr",
          "output_type": "stream",
          "text": [
            "\r 86%|████████▌ | 38399/44800 [01:46<00:17, 361.87it/s]\n"
          ]
        },
        {
          "ename": "KeyboardInterrupt",
          "evalue": "ignored",
          "output_type": "error",
          "traceback": [
            "\u001b[0;31m---------------------------------------------------------------------------\u001b[0m",
            "\u001b[0;31mKeyboardInterrupt\u001b[0m                         Traceback (most recent call last)",
            "\u001b[0;32m<ipython-input-74-6aa9803fac70>\u001b[0m in \u001b[0;36m<module>\u001b[0;34m\u001b[0m\n\u001b[1;32m      3\u001b[0m          \u001b[0moptimizer\u001b[0m \u001b[0;34m=\u001b[0m \u001b[0mtorch\u001b[0m\u001b[0;34m.\u001b[0m\u001b[0moptim\u001b[0m\u001b[0;34m.\u001b[0m\u001b[0mAdam\u001b[0m\u001b[0;34m(\u001b[0m\u001b[0mautoen\u001b[0m\u001b[0;34m.\u001b[0m\u001b[0mparameters\u001b[0m\u001b[0;34m(\u001b[0m\u001b[0;34m)\u001b[0m\u001b[0;34m,\u001b[0m \u001b[0mlr\u001b[0m \u001b[0;34m=\u001b[0m \u001b[0mLR\u001b[0m\u001b[0;34m)\u001b[0m\u001b[0;34m,\u001b[0m\u001b[0;34m\u001b[0m\u001b[0;34m\u001b[0m\u001b[0m\n\u001b[1;32m      4\u001b[0m          \u001b[0mcriterion\u001b[0m \u001b[0;34m=\u001b[0m \u001b[0mF\u001b[0m\u001b[0;34m.\u001b[0m\u001b[0mmse_loss\u001b[0m\u001b[0;34m,\u001b[0m\u001b[0;34m\u001b[0m\u001b[0;34m\u001b[0m\u001b[0m\n\u001b[0;32m----> 5\u001b[0;31m          num_epochs = NUM_EPOCHS)\n\u001b[0m",
            "\u001b[0;32m<ipython-input-72-af59c1c49d69>\u001b[0m in \u001b[0;36mtrain_ae\u001b[0;34m(module, train_loader, optimizer, criterion, num_epochs)\u001b[0m\n\u001b[1;32m      3\u001b[0m     \u001b[0mlosses\u001b[0m \u001b[0;34m=\u001b[0m \u001b[0;34m[\u001b[0m\u001b[0;34m]\u001b[0m\u001b[0;34m\u001b[0m\u001b[0;34m\u001b[0m\u001b[0m\n\u001b[1;32m      4\u001b[0m     \u001b[0;32mfor\u001b[0m \u001b[0mepoch\u001b[0m \u001b[0;32min\u001b[0m \u001b[0mrange\u001b[0m\u001b[0;34m(\u001b[0m\u001b[0mnum_epochs\u001b[0m\u001b[0;34m)\u001b[0m\u001b[0;34m:\u001b[0m\u001b[0;34m\u001b[0m\u001b[0;34m\u001b[0m\u001b[0m\n\u001b[0;32m----> 5\u001b[0;31m         \u001b[0;32mfor\u001b[0m \u001b[0mtracks_ids\u001b[0m\u001b[0;34m,\u001b[0m \u001b[0mtracks_features\u001b[0m \u001b[0;32min\u001b[0m \u001b[0mtrain_loader\u001b[0m\u001b[0;34m:\u001b[0m\u001b[0;34m\u001b[0m\u001b[0;34m\u001b[0m\u001b[0m\n\u001b[0m\u001b[1;32m      6\u001b[0m             \u001b[0moptimizer\u001b[0m\u001b[0;34m.\u001b[0m\u001b[0mzero_grad\u001b[0m\u001b[0;34m(\u001b[0m\u001b[0;34m)\u001b[0m\u001b[0;34m\u001b[0m\u001b[0;34m\u001b[0m\u001b[0m\n\u001b[1;32m      7\u001b[0m             \u001b[0mmodule\u001b[0m\u001b[0;34m.\u001b[0m\u001b[0mtrain\u001b[0m\u001b[0;34m(\u001b[0m\u001b[0;34m)\u001b[0m\u001b[0;34m\u001b[0m\u001b[0;34m\u001b[0m\u001b[0m\n",
            "\u001b[0;32m<ipython-input-8-b5b1b7ee2dc1>\u001b[0m in \u001b[0;36m__iter__\u001b[0;34m(self)\u001b[0m\n\u001b[1;32m     70\u001b[0m             \u001b[0mbatch_ids\u001b[0m\u001b[0;34m.\u001b[0m\u001b[0mappend\u001b[0m\u001b[0;34m(\u001b[0m\u001b[0mtrack_id\u001b[0m\u001b[0;34m)\u001b[0m\u001b[0;34m\u001b[0m\u001b[0;34m\u001b[0m\u001b[0m\n\u001b[1;32m     71\u001b[0m             \u001b[0;32mif\u001b[0m \u001b[0mlen\u001b[0m\u001b[0;34m(\u001b[0m\u001b[0mbatch_ids\u001b[0m\u001b[0;34m)\u001b[0m \u001b[0;34m==\u001b[0m \u001b[0mself\u001b[0m\u001b[0;34m.\u001b[0m\u001b[0mbatch_size\u001b[0m\u001b[0;34m:\u001b[0m\u001b[0;34m\u001b[0m\u001b[0;34m\u001b[0m\u001b[0m\n\u001b[0;32m---> 72\u001b[0;31m                 \u001b[0;32myield\u001b[0m \u001b[0mbatch_ids\u001b[0m\u001b[0;34m,\u001b[0m \u001b[0mself\u001b[0m\u001b[0;34m.\u001b[0m\u001b[0mfeatures_loader\u001b[0m\u001b[0;34m.\u001b[0m\u001b[0mload_batch\u001b[0m\u001b[0;34m(\u001b[0m\u001b[0mbatch_ids\u001b[0m\u001b[0;34m)\u001b[0m\u001b[0;34m\u001b[0m\u001b[0;34m\u001b[0m\u001b[0m\n\u001b[0m\u001b[1;32m     73\u001b[0m                 \u001b[0mbatch_ids\u001b[0m \u001b[0;34m=\u001b[0m \u001b[0;34m[\u001b[0m\u001b[0;34m]\u001b[0m\u001b[0;34m\u001b[0m\u001b[0;34m\u001b[0m\u001b[0m\n\u001b[1;32m     74\u001b[0m         \u001b[0;32mif\u001b[0m \u001b[0mlen\u001b[0m\u001b[0;34m(\u001b[0m\u001b[0mbatch_ids\u001b[0m\u001b[0;34m)\u001b[0m \u001b[0;34m>\u001b[0m \u001b[0;36m0\u001b[0m\u001b[0;34m:\u001b[0m\u001b[0;34m\u001b[0m\u001b[0;34m\u001b[0m\u001b[0m\n",
            "\u001b[0;32m<ipython-input-8-b5b1b7ee2dc1>\u001b[0m in \u001b[0;36mload_batch\u001b[0;34m(self, tracks_ids)\u001b[0m\n\u001b[1;32m     23\u001b[0m \u001b[0;34m\u001b[0m\u001b[0m\n\u001b[1;32m     24\u001b[0m     \u001b[0;32mdef\u001b[0m \u001b[0mload_batch\u001b[0m\u001b[0;34m(\u001b[0m\u001b[0mself\u001b[0m\u001b[0;34m,\u001b[0m \u001b[0mtracks_ids\u001b[0m\u001b[0;34m)\u001b[0m\u001b[0;34m:\u001b[0m\u001b[0;34m\u001b[0m\u001b[0;34m\u001b[0m\u001b[0m\n\u001b[0;32m---> 25\u001b[0;31m         \u001b[0mbatch\u001b[0m \u001b[0;34m=\u001b[0m \u001b[0;34m[\u001b[0m\u001b[0mself\u001b[0m\u001b[0;34m.\u001b[0m\u001b[0m_load_item\u001b[0m\u001b[0;34m(\u001b[0m\u001b[0mtrack_id\u001b[0m\u001b[0;34m)\u001b[0m \u001b[0;32mfor\u001b[0m \u001b[0mtrack_id\u001b[0m \u001b[0;32min\u001b[0m \u001b[0mtracks_ids\u001b[0m\u001b[0;34m]\u001b[0m\u001b[0;34m\u001b[0m\u001b[0;34m\u001b[0m\u001b[0m\n\u001b[0m\u001b[1;32m     26\u001b[0m         \u001b[0;32mreturn\u001b[0m \u001b[0mtorch\u001b[0m\u001b[0;34m.\u001b[0m\u001b[0mtensor\u001b[0m\u001b[0;34m(\u001b[0m\u001b[0mnp\u001b[0m\u001b[0;34m.\u001b[0m\u001b[0marray\u001b[0m\u001b[0;34m(\u001b[0m\u001b[0mbatch\u001b[0m\u001b[0;34m)\u001b[0m\u001b[0;34m)\u001b[0m\u001b[0;34m.\u001b[0m\u001b[0mto\u001b[0m\u001b[0;34m(\u001b[0m\u001b[0mself\u001b[0m\u001b[0;34m.\u001b[0m\u001b[0mdevice\u001b[0m\u001b[0;34m)\u001b[0m\u001b[0;34m\u001b[0m\u001b[0;34m\u001b[0m\u001b[0m\n\u001b[1;32m     27\u001b[0m \u001b[0;34m\u001b[0m\u001b[0m\n",
            "\u001b[0;32m<ipython-input-8-b5b1b7ee2dc1>\u001b[0m in \u001b[0;36m<listcomp>\u001b[0;34m(.0)\u001b[0m\n\u001b[1;32m     23\u001b[0m \u001b[0;34m\u001b[0m\u001b[0m\n\u001b[1;32m     24\u001b[0m     \u001b[0;32mdef\u001b[0m \u001b[0mload_batch\u001b[0m\u001b[0;34m(\u001b[0m\u001b[0mself\u001b[0m\u001b[0;34m,\u001b[0m \u001b[0mtracks_ids\u001b[0m\u001b[0;34m)\u001b[0m\u001b[0;34m:\u001b[0m\u001b[0;34m\u001b[0m\u001b[0;34m\u001b[0m\u001b[0m\n\u001b[0;32m---> 25\u001b[0;31m         \u001b[0mbatch\u001b[0m \u001b[0;34m=\u001b[0m \u001b[0;34m[\u001b[0m\u001b[0mself\u001b[0m\u001b[0;34m.\u001b[0m\u001b[0m_load_item\u001b[0m\u001b[0;34m(\u001b[0m\u001b[0mtrack_id\u001b[0m\u001b[0;34m)\u001b[0m \u001b[0;32mfor\u001b[0m \u001b[0mtrack_id\u001b[0m \u001b[0;32min\u001b[0m \u001b[0mtracks_ids\u001b[0m\u001b[0;34m]\u001b[0m\u001b[0;34m\u001b[0m\u001b[0;34m\u001b[0m\u001b[0m\n\u001b[0m\u001b[1;32m     26\u001b[0m         \u001b[0;32mreturn\u001b[0m \u001b[0mtorch\u001b[0m\u001b[0;34m.\u001b[0m\u001b[0mtensor\u001b[0m\u001b[0;34m(\u001b[0m\u001b[0mnp\u001b[0m\u001b[0;34m.\u001b[0m\u001b[0marray\u001b[0m\u001b[0;34m(\u001b[0m\u001b[0mbatch\u001b[0m\u001b[0;34m)\u001b[0m\u001b[0;34m)\u001b[0m\u001b[0;34m.\u001b[0m\u001b[0mto\u001b[0m\u001b[0;34m(\u001b[0m\u001b[0mself\u001b[0m\u001b[0;34m.\u001b[0m\u001b[0mdevice\u001b[0m\u001b[0;34m)\u001b[0m\u001b[0;34m\u001b[0m\u001b[0;34m\u001b[0m\u001b[0m\n\u001b[1;32m     27\u001b[0m \u001b[0;34m\u001b[0m\u001b[0m\n",
            "\u001b[0;32m<ipython-input-8-b5b1b7ee2dc1>\u001b[0m in \u001b[0;36m_load_item\u001b[0;34m(self, track_id)\u001b[0m\n\u001b[1;32m     18\u001b[0m     \u001b[0;32mdef\u001b[0m \u001b[0m_load_item\u001b[0m\u001b[0;34m(\u001b[0m\u001b[0mself\u001b[0m\u001b[0;34m,\u001b[0m \u001b[0mtrack_id\u001b[0m\u001b[0;34m)\u001b[0m\u001b[0;34m:\u001b[0m\u001b[0;34m\u001b[0m\u001b[0;34m\u001b[0m\u001b[0m\n\u001b[1;32m     19\u001b[0m         \u001b[0mtrack_features_file_path\u001b[0m \u001b[0;34m=\u001b[0m \u001b[0mself\u001b[0m\u001b[0;34m.\u001b[0m\u001b[0mtrackid2path\u001b[0m\u001b[0;34m[\u001b[0m\u001b[0mtrack_id\u001b[0m\u001b[0;34m]\u001b[0m\u001b[0;34m\u001b[0m\u001b[0;34m\u001b[0m\u001b[0m\n\u001b[0;32m---> 20\u001b[0;31m         \u001b[0mtrack_features\u001b[0m \u001b[0;34m=\u001b[0m \u001b[0mnp\u001b[0m\u001b[0;34m.\u001b[0m\u001b[0mload\u001b[0m\u001b[0;34m(\u001b[0m\u001b[0mos\u001b[0m\u001b[0;34m.\u001b[0m\u001b[0mpath\u001b[0m\u001b[0;34m.\u001b[0m\u001b[0mjoin\u001b[0m\u001b[0;34m(\u001b[0m\u001b[0mself\u001b[0m\u001b[0;34m.\u001b[0m\u001b[0mfeatures_dir_path\u001b[0m\u001b[0;34m,\u001b[0m \u001b[0mtrack_features_file_path\u001b[0m\u001b[0;34m)\u001b[0m\u001b[0;34m)\u001b[0m\u001b[0;34m\u001b[0m\u001b[0;34m\u001b[0m\u001b[0m\n\u001b[0m\u001b[1;32m     21\u001b[0m         \u001b[0mpadding\u001b[0m \u001b[0;34m=\u001b[0m \u001b[0;34m(\u001b[0m\u001b[0mtrack_features\u001b[0m\u001b[0;34m.\u001b[0m\u001b[0mshape\u001b[0m\u001b[0;34m[\u001b[0m\u001b[0;36m1\u001b[0m\u001b[0;34m]\u001b[0m \u001b[0;34m-\u001b[0m \u001b[0mself\u001b[0m\u001b[0;34m.\u001b[0m\u001b[0mcrop_size\u001b[0m\u001b[0;34m)\u001b[0m \u001b[0;34m//\u001b[0m \u001b[0;36m2\u001b[0m\u001b[0;34m\u001b[0m\u001b[0;34m\u001b[0m\u001b[0m\n\u001b[1;32m     22\u001b[0m         \u001b[0;32mreturn\u001b[0m \u001b[0mtrack_features\u001b[0m\u001b[0;34m[\u001b[0m\u001b[0;34m:\u001b[0m\u001b[0;34m,\u001b[0m \u001b[0mpadding\u001b[0m\u001b[0;34m:\u001b[0m\u001b[0mpadding\u001b[0m\u001b[0;34m+\u001b[0m\u001b[0mself\u001b[0m\u001b[0;34m.\u001b[0m\u001b[0mcrop_size\u001b[0m\u001b[0;34m]\u001b[0m\u001b[0;34m\u001b[0m\u001b[0;34m\u001b[0m\u001b[0m\n",
            "\u001b[0;32m/usr/local/lib/python3.7/dist-packages/numpy/lib/npyio.py\u001b[0m in \u001b[0;36mload\u001b[0;34m(file, mmap_mode, allow_pickle, fix_imports, encoding)\u001b[0m\n\u001b[1;32m    439\u001b[0m             \u001b[0;32melse\u001b[0m\u001b[0;34m:\u001b[0m\u001b[0;34m\u001b[0m\u001b[0;34m\u001b[0m\u001b[0m\n\u001b[1;32m    440\u001b[0m                 return format.read_array(fid, allow_pickle=allow_pickle,\n\u001b[0;32m--> 441\u001b[0;31m                                          pickle_kwargs=pickle_kwargs)\n\u001b[0m\u001b[1;32m    442\u001b[0m         \u001b[0;32melse\u001b[0m\u001b[0;34m:\u001b[0m\u001b[0;34m\u001b[0m\u001b[0;34m\u001b[0m\u001b[0m\n\u001b[1;32m    443\u001b[0m             \u001b[0;31m# Try a pickle\u001b[0m\u001b[0;34m\u001b[0m\u001b[0;34m\u001b[0m\u001b[0;34m\u001b[0m\u001b[0m\n",
            "\u001b[0;32m/usr/local/lib/python3.7/dist-packages/numpy/lib/format.py\u001b[0m in \u001b[0;36mread_array\u001b[0;34m(fp, allow_pickle, pickle_kwargs)\u001b[0m\n\u001b[1;32m    731\u001b[0m     \u001b[0mversion\u001b[0m \u001b[0;34m=\u001b[0m \u001b[0mread_magic\u001b[0m\u001b[0;34m(\u001b[0m\u001b[0mfp\u001b[0m\u001b[0;34m)\u001b[0m\u001b[0;34m\u001b[0m\u001b[0;34m\u001b[0m\u001b[0m\n\u001b[1;32m    732\u001b[0m     \u001b[0m_check_version\u001b[0m\u001b[0;34m(\u001b[0m\u001b[0mversion\u001b[0m\u001b[0;34m)\u001b[0m\u001b[0;34m\u001b[0m\u001b[0;34m\u001b[0m\u001b[0m\n\u001b[0;32m--> 733\u001b[0;31m     \u001b[0mshape\u001b[0m\u001b[0;34m,\u001b[0m \u001b[0mfortran_order\u001b[0m\u001b[0;34m,\u001b[0m \u001b[0mdtype\u001b[0m \u001b[0;34m=\u001b[0m \u001b[0m_read_array_header\u001b[0m\u001b[0;34m(\u001b[0m\u001b[0mfp\u001b[0m\u001b[0;34m,\u001b[0m \u001b[0mversion\u001b[0m\u001b[0;34m)\u001b[0m\u001b[0;34m\u001b[0m\u001b[0;34m\u001b[0m\u001b[0m\n\u001b[0m\u001b[1;32m    734\u001b[0m     \u001b[0;32mif\u001b[0m \u001b[0mlen\u001b[0m\u001b[0;34m(\u001b[0m\u001b[0mshape\u001b[0m\u001b[0;34m)\u001b[0m \u001b[0;34m==\u001b[0m \u001b[0;36m0\u001b[0m\u001b[0;34m:\u001b[0m\u001b[0;34m\u001b[0m\u001b[0;34m\u001b[0m\u001b[0m\n\u001b[1;32m    735\u001b[0m         \u001b[0mcount\u001b[0m \u001b[0;34m=\u001b[0m \u001b[0;36m1\u001b[0m\u001b[0;34m\u001b[0m\u001b[0;34m\u001b[0m\u001b[0m\n",
            "\u001b[0;32m/usr/local/lib/python3.7/dist-packages/numpy/lib/format.py\u001b[0m in \u001b[0;36m_read_array_header\u001b[0;34m(fp, version)\u001b[0m\n\u001b[1;32m    594\u001b[0m     \u001b[0;31m# implementation before header filtering was implemented.\u001b[0m\u001b[0;34m\u001b[0m\u001b[0;34m\u001b[0m\u001b[0;34m\u001b[0m\u001b[0m\n\u001b[1;32m    595\u001b[0m     \u001b[0;32mif\u001b[0m \u001b[0mversion\u001b[0m \u001b[0;34m<=\u001b[0m \u001b[0;34m(\u001b[0m\u001b[0;36m2\u001b[0m\u001b[0;34m,\u001b[0m \u001b[0;36m0\u001b[0m\u001b[0;34m)\u001b[0m\u001b[0;34m:\u001b[0m\u001b[0;34m\u001b[0m\u001b[0;34m\u001b[0m\u001b[0m\n\u001b[0;32m--> 596\u001b[0;31m         \u001b[0mheader\u001b[0m \u001b[0;34m=\u001b[0m \u001b[0m_filter_header\u001b[0m\u001b[0;34m(\u001b[0m\u001b[0mheader\u001b[0m\u001b[0;34m)\u001b[0m\u001b[0;34m\u001b[0m\u001b[0;34m\u001b[0m\u001b[0m\n\u001b[0m\u001b[1;32m    597\u001b[0m     \u001b[0;32mtry\u001b[0m\u001b[0;34m:\u001b[0m\u001b[0;34m\u001b[0m\u001b[0;34m\u001b[0m\u001b[0m\n\u001b[1;32m    598\u001b[0m         \u001b[0md\u001b[0m \u001b[0;34m=\u001b[0m \u001b[0msafe_eval\u001b[0m\u001b[0;34m(\u001b[0m\u001b[0mheader\u001b[0m\u001b[0;34m)\u001b[0m\u001b[0;34m\u001b[0m\u001b[0;34m\u001b[0m\u001b[0m\n",
            "\u001b[0;32m/usr/local/lib/python3.7/dist-packages/numpy/lib/format.py\u001b[0m in \u001b[0;36m_filter_header\u001b[0;34m(s)\u001b[0m\n\u001b[1;32m    555\u001b[0m     \u001b[0mtokens\u001b[0m \u001b[0;34m=\u001b[0m \u001b[0;34m[\u001b[0m\u001b[0;34m]\u001b[0m\u001b[0;34m\u001b[0m\u001b[0;34m\u001b[0m\u001b[0m\n\u001b[1;32m    556\u001b[0m     \u001b[0mlast_token_was_number\u001b[0m \u001b[0;34m=\u001b[0m \u001b[0;32mFalse\u001b[0m\u001b[0;34m\u001b[0m\u001b[0;34m\u001b[0m\u001b[0m\n\u001b[0;32m--> 557\u001b[0;31m     \u001b[0;32mfor\u001b[0m \u001b[0mtoken\u001b[0m \u001b[0;32min\u001b[0m \u001b[0mtokenize\u001b[0m\u001b[0;34m.\u001b[0m\u001b[0mgenerate_tokens\u001b[0m\u001b[0;34m(\u001b[0m\u001b[0mStringIO\u001b[0m\u001b[0;34m(\u001b[0m\u001b[0ms\u001b[0m\u001b[0;34m)\u001b[0m\u001b[0;34m.\u001b[0m\u001b[0mreadline\u001b[0m\u001b[0;34m)\u001b[0m\u001b[0;34m:\u001b[0m\u001b[0;34m\u001b[0m\u001b[0;34m\u001b[0m\u001b[0m\n\u001b[0m\u001b[1;32m    558\u001b[0m         \u001b[0mtoken_type\u001b[0m \u001b[0;34m=\u001b[0m \u001b[0mtoken\u001b[0m\u001b[0;34m[\u001b[0m\u001b[0;36m0\u001b[0m\u001b[0;34m]\u001b[0m\u001b[0;34m\u001b[0m\u001b[0;34m\u001b[0m\u001b[0m\n\u001b[1;32m    559\u001b[0m         \u001b[0mtoken_string\u001b[0m \u001b[0;34m=\u001b[0m \u001b[0mtoken\u001b[0m\u001b[0;34m[\u001b[0m\u001b[0;36m1\u001b[0m\u001b[0;34m]\u001b[0m\u001b[0;34m\u001b[0m\u001b[0;34m\u001b[0m\u001b[0m\n",
            "\u001b[0;32m/usr/lib/python3.7/tokenize.py\u001b[0m in \u001b[0;36m_tokenize\u001b[0;34m(readline, encoding)\u001b[0m\n\u001b[1;32m    580\u001b[0m             \u001b[0mcontinued\u001b[0m \u001b[0;34m=\u001b[0m \u001b[0;36m0\u001b[0m\u001b[0;34m\u001b[0m\u001b[0;34m\u001b[0m\u001b[0m\n\u001b[1;32m    581\u001b[0m \u001b[0;34m\u001b[0m\u001b[0m\n\u001b[0;32m--> 582\u001b[0;31m         \u001b[0;32mwhile\u001b[0m \u001b[0mpos\u001b[0m \u001b[0;34m<\u001b[0m \u001b[0mmax\u001b[0m\u001b[0;34m:\u001b[0m\u001b[0;34m\u001b[0m\u001b[0;34m\u001b[0m\u001b[0m\n\u001b[0m\u001b[1;32m    583\u001b[0m             \u001b[0mpseudomatch\u001b[0m \u001b[0;34m=\u001b[0m \u001b[0m_compile\u001b[0m\u001b[0;34m(\u001b[0m\u001b[0mPseudoToken\u001b[0m\u001b[0;34m)\u001b[0m\u001b[0;34m.\u001b[0m\u001b[0mmatch\u001b[0m\u001b[0;34m(\u001b[0m\u001b[0mline\u001b[0m\u001b[0;34m,\u001b[0m \u001b[0mpos\u001b[0m\u001b[0;34m)\u001b[0m\u001b[0;34m\u001b[0m\u001b[0;34m\u001b[0m\u001b[0m\n\u001b[1;32m    584\u001b[0m             \u001b[0;32mif\u001b[0m \u001b[0mpseudomatch\u001b[0m\u001b[0;34m:\u001b[0m                                \u001b[0;31m# scan for tokens\u001b[0m\u001b[0;34m\u001b[0m\u001b[0;34m\u001b[0m\u001b[0m\n",
            "\u001b[0;31mKeyboardInterrupt\u001b[0m: "
          ]
        }
      ],
      "source": [
        "losses = train_ae(module= autoen,\n",
        "         train_loader = TestLoader(FeaturesLoader(TRAINSET_PATH, validation_meta_info, device), batch_size = BATCH_SIZE),\n",
        "         optimizer = torch.optim.Adam(autoen.parameters(), lr = LR),\n",
        "         criterion = F.mse_loss,\n",
        "         num_epochs = NUM_EPOCHS)"
      ]
    },
    {
      "cell_type": "code",
      "execution_count": null,
      "metadata": {
        "id": "E7NzqAlvYGAd"
      },
      "outputs": [],
      "source": [
        "with open(\"losses.txt\", \"w\") as output:\n",
        "    output.write(str(l))"
      ]
    },
    {
      "cell_type": "code",
      "execution_count": null,
      "metadata": {
        "id": "zx64563MYr7N"
      },
      "outputs": [],
      "source": [
        "with open(\"met1.txt\", \"w\") as output:\n",
        "    output.write(str(m1))"
      ]
    },
    {
      "cell_type": "code",
      "execution_count": null,
      "metadata": {
        "id": "1V1uhDTMYsGH"
      },
      "outputs": [],
      "source": [
        "with open(\"met2.txt\", \"w\") as output:\n",
        "    output.write(str(m2))"
      ]
    },
    {
      "cell_type": "code",
      "execution_count": null,
      "metadata": {
        "colab": {
          "base_uri": "https://localhost:8080/",
          "height": 165
        },
        "id": "KcIw-hlOThYq",
        "outputId": "f6a337a1-9323-4082-c838-c8d9384ea5da"
      },
      "outputs": [
        {
          "ename": "NameError",
          "evalue": "ignored",
          "output_type": "error",
          "traceback": [
            "\u001b[0;31m---------------------------------------------------------------------------\u001b[0m",
            "\u001b[0;31mNameError\u001b[0m                                 Traceback (most recent call last)",
            "\u001b[0;32m<ipython-input-76-1f71c63ba2d5>\u001b[0m in \u001b[0;36m<module>\u001b[0;34m\u001b[0m\n\u001b[0;32m----> 1\u001b[0;31m \u001b[0mplt\u001b[0m\u001b[0;34m.\u001b[0m\u001b[0mplot\u001b[0m\u001b[0;34m(\u001b[0m\u001b[0mlosses\u001b[0m\u001b[0;34m)\u001b[0m\u001b[0;34m\u001b[0m\u001b[0;34m\u001b[0m\u001b[0m\n\u001b[0m",
            "\u001b[0;31mNameError\u001b[0m: name 'plt' is not defined"
          ]
        }
      ],
      "source": [
        "plt.plot(losses)"
      ]
    },
    {
      "cell_type": "code",
      "execution_count": null,
      "metadata": {
        "colab": {
          "base_uri": "https://localhost:8080/",
          "height": 283
        },
        "id": "mrAFV0HIbv7E",
        "outputId": "a844219e-a08d-461b-effe-bea4f3217744"
      },
      "outputs": [
        {
          "data": {
            "text/plain": [
              "[<matplotlib.lines.Line2D at 0x7f7c135c1f50>]"
            ]
          },
          "execution_count": 184,
          "metadata": {},
          "output_type": "execute_result"
        },
        {
          "data": {
            "image/png": "[encoded data removed]",
            "text/plain": [
              "<Figure size 432x288 with 1 Axes>"
            ]
          },
          "metadata": {},
          "output_type": "display_data"
        }
      ],
      "source": [
        "\n",
        "plt.plot(losses)"
      ]
    },
    {
      "cell_type": "code",
      "execution_count": null,
      "metadata": {
        "colab": {
          "base_uri": "https://localhost:8080/",
          "height": 165
        },
        "id": "1MWeoeceZiQ2",
        "outputId": "cf488bd9-d5a5-4533-f2c9-c929d68dd4e6"
      },
      "outputs": [
        {
          "ename": "NameError",
          "evalue": "ignored",
          "output_type": "error",
          "traceback": [
            "\u001b[0;31m---------------------------------------------------------------------------\u001b[0m",
            "\u001b[0;31mNameError\u001b[0m                                 Traceback (most recent call last)",
            "\u001b[0;32m<ipython-input-75-4bfcd840eb14>\u001b[0m in \u001b[0;36m<module>\u001b[0;34m\u001b[0m\n\u001b[0;32m----> 1\u001b[0;31m \u001b[0ml1\u001b[0m\u001b[0;34m,\u001b[0m \u001b[0mm11\u001b[0m\u001b[0;34m,\u001b[0m \u001b[0mm21\u001b[0m \u001b[0;34m=\u001b[0m \u001b[0ml\u001b[0m\u001b[0;34m,\u001b[0m \u001b[0mm1\u001b[0m\u001b[0;34m,\u001b[0m \u001b[0mm2\u001b[0m\u001b[0;34m\u001b[0m\u001b[0;34m\u001b[0m\u001b[0m\n\u001b[0m",
            "\u001b[0;31mNameError\u001b[0m: name 'l' is not defined"
          ]
        }
      ],
      "source": [
        "l1, m11, m21 = l, m1, m2"
      ]
    },
    {
      "cell_type": "code",
      "execution_count": null,
      "metadata": {
        "colab": {
          "base_uri": "https://localhost:8080/",
          "height": 283
        },
        "id": "1ay5R_LcNkE4",
        "outputId": "d5c1b3e2-836e-4758-9e29-42010bc8168e"
      },
      "outputs": [
        {
          "data": {
            "text/plain": [
              "[<matplotlib.lines.Line2D at 0x7fcd7613ee90>]"
            ]
          },
          "execution_count": 17,
          "metadata": {},
          "output_type": "execute_result"
        },
        {
          "data": {
            "image/png": "[encoded data removed]",
            "text/plain": [
              "<Figure size 432x288 with 1 Axes>"
            ]
          },
          "metadata": {},
          "output_type": "display_data"
        }
      ],
      "source": [
        "import matplotlib.pyplot as plt\n",
        "\n",
        "plt.plot(l)"
      ]
    },
    {
      "cell_type": "code",
      "execution_count": null,
      "metadata": {
        "colab": {
          "base_uri": "https://localhost:8080/",
          "height": 283
        },
        "id": "hDupy8i0Zqmd",
        "outputId": "3e7880ea-f76c-447a-a20a-f22768f21259"
      },
      "outputs": [
        {
          "data": {
            "text/plain": [
              "[<matplotlib.lines.Line2D at 0x7fce0cc6d690>]"
            ]
          },
          "execution_count": 30,
          "metadata": {},
          "output_type": "execute_result"
        },
        {
          "data": {
            "image/png": "[encoded data removed]",
            "text/plain": [
              "<Figure size 432x288 with 1 Axes>"
            ]
          },
          "metadata": {},
          "output_type": "display_data"
        }
      ],
      "source": [
        "plt.plot(l1)"
      ]
    },
    {
      "cell_type": "code",
      "execution_count": null,
      "metadata": {
        "colab": {
          "base_uri": "https://localhost:8080/",
          "height": 287
        },
        "id": "pWo4fz4MNDAv",
        "outputId": "b164fc4d-9c4c-41ed-c9ce-685b67622cbb"
      },
      "outputs": [
        {
          "data": {
            "text/plain": [
              "[<matplotlib.lines.Line2D at 0x7fcbd8153510>]"
            ]
          },
          "execution_count": 18,
          "metadata": {},
          "output_type": "execute_result"
        },
        {
          "data": {
            "image/png": "[encoded data removed]",
            "text/plain": [
              "<Figure size 432x288 with 1 Axes>"
            ]
          },
          "metadata": {},
          "output_type": "display_data"
        }
      ],
      "source": [
        "plt.plot(m1)\n",
        "plt.plot(m2)"
      ]
    },
    {
      "cell_type": "code",
      "execution_count": null,
      "metadata": {
        "colab": {
          "base_uri": "https://localhost:8080/",
          "height": 283
        },
        "id": "YHbBLWeeZu1F",
        "outputId": "8d97982c-2ecf-4f45-b763-03d4dd4fee14"
      },
      "outputs": [
        {
          "data": {
            "text/plain": [
              "[<matplotlib.lines.Line2D at 0x7fce046edb10>]"
            ]
          },
          "execution_count": 31,
          "metadata": {},
          "output_type": "execute_result"
        },
        {
          "data": {
            "image/png": "[encoded data removed]",
            "text/plain": [
              "<Figure size 432x288 with 1 Axes>"
            ]
          },
          "metadata": {},
          "output_type": "display_data"
        }
      ],
      "source": [
        "plt.plot(m11)\n",
        "plt.plot(m21)"
      ]
    },
    {
      "cell_type": "code",
      "execution_count": null,
      "metadata": {
        "colab": {
          "base_uri": "https://localhost:8080/"
        },
        "id": "0vBSXsjNWLNV",
        "outputId": "d7939f46-730f-4d48-a02e-746e7fe16081"
      },
      "outputs": [
        {
          "name": "stdout",
          "output_type": "stream",
          "text": [
            "Looking in indexes: https://pypi.org/simple, https://us-python.pkg.dev/colab-wheels/public/simple/\n",
            "Collecting vector_quantize_pytorch\n",
            "  Downloading vector_quantize_pytorch-0.10.9-py3-none-any.whl (8.5 kB)\n",
            "Collecting einops\n",
            "  Downloading einops-0.6.0-py3-none-any.whl (41 kB)\n",
            "\u001b[K     |████████████████████████████████| 41 kB 514 kB/s \n",
            "\u001b[?25hRequirement already satisfied: torch in /usr/local/lib/python3.7/dist-packages (from vector_quantize_pytorch) (1.12.1+cu113)\n",
            "Requirement already satisfied: typing-extensions in /usr/local/lib/python3.7/dist-packages (from torch->vector_quantize_pytorch) (4.1.1)\n",
            "Installing collected packages: einops, vector-quantize-pytorch\n",
            "Successfully installed einops-0.6.0 vector-quantize-pytorch-0.10.9\n"
          ]
        }
      ],
      "source": [
        "!pip install vector_quantize_pytorch"
      ]
    },
    {
      "cell_type": "code",
      "execution_count": null,
      "metadata": {
        "id": "1TsehOGtVl4O"
      },
      "outputs": [],
      "source": [
        "import torch\n",
        "import torch.nn as nn\n",
        "import torch.nn.functional as F\n",
        "from torch.nn.utils import weight_norm\n",
        "\n",
        "from vector_quantize_pytorch import ResidualVQ\n",
        "\n",
        "# Generator\n",
        "\n",
        "\n",
        "class CausalConv1d(nn.Conv1d):\n",
        "    def __init__(self, *args, **kwargs):\n",
        "        super().__init__(*args, **kwargs)\n",
        "        self.causal_padding = self.dilation[0] * (self.kernel_size[0] - 1)\n",
        "\n",
        "    def forward(self, x):\n",
        "        return self._conv_forward(F.pad(x, [self.causal_padding, 0]), self.weight, self.bias)\n",
        "\n",
        "\n",
        "class CausalConvTranspose1d(nn.ConvTranspose1d):\n",
        "    def __init__(self, *args, **kwargs):\n",
        "        super().__init__(*args, **kwargs)\n",
        "        self.causal_padding = self.dilation[0] * (self.kernel_size[0] - 1) + self.output_padding[0] + 1 - self.stride[0]\n",
        "    \n",
        "    def forward(self, x, output_size=None):\n",
        "        if self.padding_mode != 'zeros':\n",
        "            raise ValueError('Only `zeros` padding mode is supported for ConvTranspose1d')\n",
        "\n",
        "        assert isinstance(self.padding, tuple)\n",
        "        output_padding = self._output_padding(\n",
        "            x, output_size, self.stride, self.padding, self.kernel_size, self.dilation)\n",
        "        return F.conv_transpose1d(\n",
        "            x, self.weight, self.bias, self.stride, self.padding,\n",
        "            output_padding, self.groups, self.dilation)[...,:-self.causal_padding]\n",
        "\n",
        "\n",
        "class ResidualUnit(nn.Module):\n",
        "    def __init__(self, in_channels, out_channels, dilation):\n",
        "        super().__init__()\n",
        "        \n",
        "        self.dilation = dilation\n",
        "\n",
        "        self.layers = nn.Sequential(\n",
        "            CausalConv1d(in_channels=in_channels, out_channels=out_channels,\n",
        "                      kernel_size=7, dilation=dilation),\n",
        "            nn.ELU(),\n",
        "            nn.Conv1d(in_channels=in_channels, out_channels=out_channels,\n",
        "                      kernel_size=1)\n",
        "        )\n",
        "\n",
        "    def forward(self, x):\n",
        "        return x + self.layers(x)\n",
        "\n",
        "\n",
        "class EncoderBlock(nn.Module):\n",
        "    def __init__(self, out_channels, stride):\n",
        "        super().__init__()\n",
        "\n",
        "        self.layers = nn.Sequential(\n",
        "            ResidualUnit(in_channels=out_channels//2,\n",
        "                         out_channels=out_channels//2, dilation=1),\n",
        "            nn.ELU(),\n",
        "            ResidualUnit(in_channels=out_channels//2,\n",
        "                         out_channels=out_channels//2, dilation=3),\n",
        "            nn.ELU(),\n",
        "            ResidualUnit(in_channels=out_channels//2,\n",
        "                         out_channels=out_channels//2, dilation=9),\n",
        "            nn.ELU(),\n",
        "            CausalConv1d(in_channels=out_channels//2, out_channels=out_channels,\n",
        "                      kernel_size=2*stride, stride=stride)\n",
        "        )\n",
        "\n",
        "    def forward(self, x):\n",
        "        return self.layers(x)\n",
        "\n",
        "class Encoder(nn.Module):\n",
        "    def __init__(self, C, D):\n",
        "        super().__init__()\n",
        "\n",
        "        self.layers = nn.Sequential(\n",
        "            CausalConv1d(in_channels=512, out_channels=C, kernel_size=7),\n",
        "            nn.ELU(),\n",
        "            EncoderBlock(out_channels=2*C, stride=2),\n",
        "            nn.ELU(),\n",
        "            EncoderBlock(out_channels=4*C, stride=4),\n",
        "            nn.ELU(),\n",
        "            EncoderBlock(out_channels=8*C, stride=5),\n",
        "            nn.ELU(),\n",
        "            EncoderBlock(out_channels=16*C, stride=8),\n",
        "            nn.ELU(),\n",
        "            CausalConv1d(in_channels=16*C, out_channels=D, kernel_size=3)\n",
        "        )\n",
        "\n",
        "    def forward(self, x):\n",
        "        return self.layers(x)"
      ]
    },
    {
      "cell_type": "code",
      "execution_count": null,
      "metadata": {
        "colab": {
          "base_uri": "https://localhost:8080/"
        },
        "id": "0LtSNctKclhk",
        "outputId": "c38ba6af-c35d-4a2c-e9d3-fcf47e8363a0"
      },
      "outputs": [
        {
          "data": {
            "text/plain": [
              "1"
            ]
          },
          "execution_count": 49,
          "metadata": {},
          "output_type": "execute_result"
        }
      ],
      "source": [
        "model = Encoder(1,1)\n",
        "model.to(device)\n",
        "1"
      ]
    },
    {
      "cell_type": "code",
      "execution_count": null,
      "metadata": {
        "id": "Iq77yCcHbnEg"
      },
      "outputs": [],
      "source": [
        "from torchsummary import summary\n",
        "summary(model, (512, 60))"
      ]
    },
    {
      "cell_type": "code",
      "execution_count": null,
      "metadata": {
        "id": "zf8rDv3BfbDW"
      },
      "outputs": [],
      "source": []
    }
  ],
  "metadata": {
    "accelerator": "GPU",
    "colab": {
      "provenance": [],
      "authorship_tag": "ABX9TyPOmmiKGvtDinSp9vdRukR8",
      "include_colab_link": true
    },
    "gpuClass": "standard",
    "kernelspec": {
      "display_name": "Python 3",
      "name": "python3"
    },
    "language_info": {
      "name": "python"
    }
  },
  "nbformat": 4,
  "nbformat_minor": 0
}